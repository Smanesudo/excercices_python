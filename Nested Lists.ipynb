{
 "cells": [
  {
   "cell_type": "markdown",
   "metadata": {
    "toc": true
   },
   "source": [
    "<h1>Table of Contents<span class=\"tocSkip\"></span></h1>\n",
    "<div class=\"toc\"><ul class=\"toc-item\"></ul></div>"
   ]
  },
  {
   "cell_type": "code",
   "execution_count": null,
   "metadata": {
    "scrolled": true
   },
   "outputs": [],
   "source": [
    "liste = []\n",
    "for _ in range(int(input())):\n",
    "    name = input()\n",
    "    score = float(input())\n",
    "    liste.append([name,score])\n",
    "print(liste)"
   ]
  },
  {
   "cell_type": "code",
   "execution_count": 4,
   "metadata": {
    "ExecuteTime": {
     "end_time": "2020-05-02T10:48:28.446519Z",
     "start_time": "2020-05-02T10:48:28.442832Z"
    }
   },
   "outputs": [
    {
     "data": {
      "text/plain": [
       "[['Harry', 37.21],\n",
       " ['Berry', 37.21],\n",
       " ['Tina', 37.2],\n",
       " ['Akriti', 41.0],\n",
       " ['Harsh', 39.0]]"
      ]
     },
     "execution_count": 4,
     "metadata": {},
     "output_type": "execute_result"
    }
   ],
   "source": [
    "l"
   ]
  },
  {
   "cell_type": "code",
   "execution_count": 8,
   "metadata": {
    "ExecuteTime": {
     "end_time": "2020-05-02T10:51:26.234293Z",
     "start_time": "2020-05-02T10:51:26.229976Z"
    }
   },
   "outputs": [
    {
     "name": "stdout",
     "output_type": "stream",
     "text": [
      "{}\n",
      "37.21 Harry\n",
      "{37.21: ['Harry']}\n",
      "37.21 Berry\n",
      "{37.21: ['Harry', 'Berry']}\n",
      "37.2 Tina\n",
      "{37.21: ['Harry', 'Berry'], 37.2: ['Tina']}\n",
      "41.0 Akriti\n",
      "{37.21: ['Harry', 'Berry'], 37.2: ['Tina'], 41.0: ['Akriti']}\n",
      "39.0 Harsh\n",
      "{37.21: ['Harry', 'Berry'], 37.2: ['Tina'], 41.0: ['Akriti'], 39.0: ['Harsh']}\n"
     ]
    }
   ],
   "source": [
    "dico = {}\n",
    "for name,score in l:\n",
    "    \n",
    "    print(dico)\n",
    "    print(score,name)\n",
    "    dico.setdefault(score, []).append(name)\n",
    "print(dico)"
   ]
  },
  {
   "cell_type": "code",
   "execution_count": null,
   "metadata": {
    "ExecuteTime": {
     "end_time": "2020-05-02T02:55:52.353702Z",
     "start_time": "2020-05-02T02:55:52.348222Z"
    }
   },
   "outputs": [],
   "source": [
    "dico\n"
   ]
  },
  {
   "cell_type": "code",
   "execution_count": null,
   "metadata": {},
   "outputs": [],
   "source": []
  },
  {
   "cell_type": "code",
   "execution_count": null,
   "metadata": {},
   "outputs": [],
   "source": []
  },
  {
   "cell_type": "code",
   "execution_count": 14,
   "metadata": {
    "ExecuteTime": {
     "end_time": "2020-05-02T10:54:53.664573Z",
     "start_time": "2020-05-02T10:54:53.659878Z"
    }
   },
   "outputs": [
    {
     "data": {
      "text/plain": [
       "37.21"
      ]
     },
     "execution_count": 14,
     "metadata": {},
     "output_type": "execute_result"
    }
   ],
   "source": [
    "sorted(list(dico), reverse = True)[-2]"
   ]
  },
  {
   "cell_type": "code",
   "execution_count": 15,
   "metadata": {
    "ExecuteTime": {
     "end_time": "2020-05-02T10:55:35.589345Z",
     "start_time": "2020-05-02T10:55:35.583658Z"
    }
   },
   "outputs": [
    {
     "data": {
      "text/plain": [
       "['Harry', 'Berry']"
      ]
     },
     "execution_count": 15,
     "metadata": {},
     "output_type": "execute_result"
    }
   ],
   "source": [
    "dico[sorted(list(dico), reverse = True)[-2]]"
   ]
  },
  {
   "cell_type": "code",
   "execution_count": 18,
   "metadata": {
    "ExecuteTime": {
     "end_time": "2020-05-02T10:57:44.431392Z",
     "start_time": "2020-05-02T10:57:44.427049Z"
    }
   },
   "outputs": [
    {
     "name": "stdout",
     "output_type": "stream",
     "text": [
      "Berry\n",
      "Harry\n"
     ]
    }
   ],
   "source": [
    "names_with_second_lowest = dico[sorted(list(dico), reverse = True)[-2]]\n",
    "#names_with_second_lowest.sort()\n",
    "sor=sorted(names_with_second_lowest)\n",
    "for name in sor:\n",
    "    print(name)"
   ]
  },
  {
   "cell_type": "code",
   "execution_count": null,
   "metadata": {},
   "outputs": [],
   "source": []
  },
  {
   "cell_type": "code",
   "execution_count": 2,
   "metadata": {
    "ExecuteTime": {
     "end_time": "2020-05-02T11:25:12.594865Z",
     "start_time": "2020-05-02T11:25:12.588825Z"
    },
    "scrolled": true
   },
   "outputs": [
    {
     "name": "stdout",
     "output_type": "stream",
     "text": [
      "Berry\n",
      "Harry\n"
     ]
    }
   ],
   "source": [
    "# l = []\n",
    "# for _ in range(int(input())):\n",
    "#     name = input()\n",
    "#     score = float(input())\n",
    "#     l.append([name,score])\n",
    "# print(l)\n",
    "\n",
    "l =  [['Harry', 37.21], ['Berry', 37.21], ['Tina', 37.2],\n",
    "         ['Akriti', 41.0], ['Harsh', 39.0]]\n",
    "\n",
    "dico = {}\n",
    "for name,score in l:\n",
    "    \n",
    "    #print(dico)\n",
    "    #print(score,name)\n",
    "    dico.setdefault(score, []).append(name)\n",
    "    # print(dico)\n",
    "sorted_dict = sorted(dico.items(), key=lambda x: x[0], reverse=True)[-2][1]\n",
    "print('\\n'.join(sorted(sorted_dict)))"
   ]
  },
  {
   "cell_type": "code",
   "execution_count": null,
   "metadata": {},
   "outputs": [],
   "source": [
    "# display multiple outputs \n",
    "from IPython.display import display\n",
    "from IPython.core.interactiveshell import InteractiveShell\n",
    "InteractiveShell.ast_node_interactivity = 'all'\n",
    "\n",
    "# librairies\n",
    "import numpy as np\n",
    "import pandas as pd\n",
    "import seaborn as sns\n",
    "import matplotlib.pyplot as plt\n",
    "%matplotlib inline\n",
    "#from sklearn.preprocessing import OneHotEncoder\n",
    "#from sklearn.model_selection import train_test_split\n",
    "#from sklearn.metrics import roc_curve\n",
    "#from sklearn.pipeline import make_pipeline"
   ]
  },
  {
   "cell_type": "code",
   "execution_count": 23,
   "metadata": {
    "ExecuteTime": {
     "end_time": "2020-05-02T11:00:52.227656Z",
     "start_time": "2020-05-02T11:00:52.223465Z"
    },
    "scrolled": true
   },
   "outputs": [
    {
     "data": {
      "text/plain": [
       "dict_items([(37.21, ['Berry', 'Harry']), (37.2, ['Tina']), (41.0, ['Akriti']), (39.0, ['Harsh'])])"
      ]
     },
     "execution_count": 23,
     "metadata": {},
     "output_type": "execute_result"
    }
   ],
   "source": [
    "dico.items()"
   ]
  },
  {
   "cell_type": "code",
   "execution_count": 1,
   "metadata": {
    "ExecuteTime": {
     "end_time": "2020-05-02T11:25:07.112254Z",
     "start_time": "2020-05-02T11:25:07.101664Z"
    }
   },
   "outputs": [
    {
     "ename": "NameError",
     "evalue": "name 'l' is not defined",
     "output_type": "error",
     "traceback": [
      "\u001b[0;31m---------------------------------------------------------------------------\u001b[0m",
      "\u001b[0;31mNameError\u001b[0m                                 Traceback (most recent call last)",
      "\u001b[0;32m<ipython-input-1-cde25b5e10ad>\u001b[0m in \u001b[0;36m<module>\u001b[0;34m\u001b[0m\n\u001b[0;32m----> 1\u001b[0;31m \u001b[0ml\u001b[0m\u001b[0;34m\u001b[0m\u001b[0;34m\u001b[0m\u001b[0m\n\u001b[0m",
      "\u001b[0;31mNameError\u001b[0m: name 'l' is not defined"
     ]
    }
   ],
   "source": [
    "l"
   ]
  },
  {
   "cell_type": "code",
   "execution_count": 9,
   "metadata": {
    "ExecuteTime": {
     "end_time": "2020-05-02T11:28:49.222094Z",
     "start_time": "2020-05-02T11:28:49.217481Z"
    }
   },
   "outputs": [
    {
     "name": "stdout",
     "output_type": "stream",
     "text": [
      "Berry\n",
      "Harry\n"
     ]
    }
   ],
   "source": [
    "names,scores=zip(*l)\n",
    "\n",
    "second_lowest=sorted(list(set(scores)))[1]\n",
    "\n",
    "print('\\n'.join(sorted([name for name,score\\\n",
    "                        in l if score==second_lowest])))"
   ]
  },
  {
   "cell_type": "code",
   "execution_count": 1,
   "metadata": {
    "ExecuteTime": {
     "end_time": "2020-05-02T10:47:26.193835Z",
     "start_time": "2020-05-02T10:47:26.189699Z"
    }
   },
   "outputs": [],
   "source": [
    "l=[['Harry', 37.21], ['Berry', 37.21], ['Tina', 37.2], ['Akriti', 41.0], ['Harsh', 39.0]]"
   ]
  },
  {
   "cell_type": "code",
   "execution_count": null,
   "metadata": {},
   "outputs": [],
   "source": []
  }
 ],
 "metadata": {
  "kernelspec": {
   "display_name": "Python 3",
   "language": "python",
   "name": "python3"
  },
  "language_info": {
   "codemirror_mode": {
    "name": "ipython",
    "version": 3
   },
   "file_extension": ".py",
   "mimetype": "text/x-python",
   "name": "python",
   "nbconvert_exporter": "python",
   "pygments_lexer": "ipython3",
   "version": "3.7.6"
  },
  "toc": {
   "base_numbering": 1,
   "nav_menu": {},
   "number_sections": true,
   "sideBar": false,
   "skip_h1_title": false,
   "title_cell": "Table of Contents",
   "title_sidebar": "Contents",
   "toc_cell": true,
   "toc_position": {
    "height": "47.1979px",
    "left": "832px",
    "top": "33px",
    "width": "128px"
   },
   "toc_section_display": false,
   "toc_window_display": true
  }
 },
 "nbformat": 4,
 "nbformat_minor": 4
}
