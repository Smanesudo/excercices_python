{
 "cells": [
  {
   "cell_type": "markdown",
   "metadata": {
    "toc": true
   },
   "source": [
    "<h1>Table of Contents<span class=\"tocSkip\"></span></h1>\n",
    "<div class=\"toc\"><ul class=\"toc-item\"><li><span><a href=\"#nested-list\" data-toc-modified-id=\"nested-list-1\"><span class=\"toc-item-num\">1&nbsp;&nbsp;</span>nested list</a></span><ul class=\"toc-item\"><li><span><a href=\"#unnatural--version\" data-toc-modified-id=\"unnatural--version-1.1\"><span class=\"toc-item-num\">1.1&nbsp;&nbsp;</span>unnatural  version</a></span></li><li><span><a href=\"#natural--version\" data-toc-modified-id=\"natural--version-1.2\"><span class=\"toc-item-num\">1.2&nbsp;&nbsp;</span>natural  version</a></span></li></ul></li><li><span><a href=\"#compress-the-string\" data-toc-modified-id=\"compress-the-string-2\"><span class=\"toc-item-num\">2&nbsp;&nbsp;</span>compress the string</a></span></li></ul></div>"
   ]
  },
  {
   "cell_type": "markdown",
   "metadata": {},
   "source": [
    "# nested list"
   ]
  },
  {
   "cell_type": "markdown",
   "metadata": {},
   "source": [
    "## unnatural  version"
   ]
  },
  {
   "cell_type": "markdown",
   "metadata": {},
   "source": [
    "https://www.hackerrank.com/challenges/nested-list/problem"
   ]
  },
  {
   "cell_type": "code",
   "execution_count": null,
   "metadata": {
    "scrolled": true
   },
   "outputs": [],
   "source": [
    "# we ask the user to input \n",
    "\n",
    "l = []\n",
    "for _ in range(int(input())):\n",
    "    name = input()\n",
    "    score = float(input())\n",
    "    l.append([name,score])\n",
    "    \n"
   ]
  },
  {
   "cell_type": "code",
   "execution_count": 1,
   "metadata": {
    "ExecuteTime": {
     "end_time": "2020-05-02T13:12:07.338289Z",
     "start_time": "2020-05-02T13:12:07.335069Z"
    }
   },
   "outputs": [],
   "source": [
    "l=[['Harry', 37.21], ['Berry', 37.21], ['Tina', 37.2], ['Akriti', 41.0], ['Harsh', 39.0]]"
   ]
  },
  {
   "cell_type": "code",
   "execution_count": 2,
   "metadata": {
    "ExecuteTime": {
     "end_time": "2020-05-02T13:12:10.877464Z",
     "start_time": "2020-05-02T13:12:10.870490Z"
    }
   },
   "outputs": [
    {
     "name": "stdout",
     "output_type": "stream",
     "text": [
      "Berry\n",
      "Harry\n"
     ]
    }
   ],
   "source": [
    "dico = {}\n",
    "for name,score in l:\n",
    "    #print(dico)\n",
    "    #print(score,name)\n",
    "    dico.setdefault(score, []).append(name)\n",
    "#print(dico)\n",
    "names_with_second_lowest = dico[sorted(list(dico),\\\n",
    "                                       reverse = True)[-2]]\n",
    "#names_with_second_lowest.sort()\n",
    "sor=sorted(names_with_second_lowest)\n",
    "for name in sor:\n",
    "    print(name)"
   ]
  },
  {
   "cell_type": "code",
   "execution_count": 2,
   "metadata": {
    "ExecuteTime": {
     "end_time": "2020-05-02T11:25:12.594865Z",
     "start_time": "2020-05-02T11:25:12.588825Z"
    },
    "scrolled": true
   },
   "outputs": [
    {
     "name": "stdout",
     "output_type": "stream",
     "text": [
      "Berry\n",
      "Harry\n"
     ]
    }
   ],
   "source": [
    "dico = {}\n",
    "for name,score in l:\n",
    "    #print(dico)\n",
    "    #print(score,name)\n",
    "    dico.setdefault(score, []).append(name)\n",
    "    # print(dico)\n",
    "sorted_dict = sorted(dico.items(), key=lambda x: x[0], reverse=True)[-2][1]\n",
    "print('\\n'.join(sorted(sorted_dict)))"
   ]
  },
  {
   "cell_type": "code",
   "execution_count": 23,
   "metadata": {
    "ExecuteTime": {
     "end_time": "2020-05-02T11:00:52.227656Z",
     "start_time": "2020-05-02T11:00:52.223465Z"
    },
    "scrolled": true
   },
   "outputs": [
    {
     "data": {
      "text/plain": [
       "dict_items([(37.21, ['Berry', 'Harry']), (37.2, ['Tina']), (41.0, ['Akriti']), (39.0, ['Harsh'])])"
      ]
     },
     "execution_count": 23,
     "metadata": {},
     "output_type": "execute_result"
    }
   ],
   "source": [
    "dico.items()"
   ]
  },
  {
   "cell_type": "markdown",
   "metadata": {},
   "source": [
    "## natural  version"
   ]
  },
  {
   "cell_type": "code",
   "execution_count": 3,
   "metadata": {
    "ExecuteTime": {
     "end_time": "2020-05-02T13:13:42.577759Z",
     "start_time": "2020-05-02T13:13:42.572718Z"
    }
   },
   "outputs": [
    {
     "name": "stdout",
     "output_type": "stream",
     "text": [
      "Berry\n",
      "Harry\n"
     ]
    }
   ],
   "source": [
    "l=[['Harry', 37.21], ['Berry', 37.21], ['Tina', 37.2], ['Akriti', 41.0], ['Harsh', 39.0]]\n",
    "\n",
    "names,scores=zip(*l)\n",
    "\n",
    "second_lowest=sorted(list(set(scores)))[1]\n",
    "\n",
    "print('\\n'.join(sorted([name for name,score\\\n",
    "                        in l if score==second_lowest])))"
   ]
  },
  {
   "cell_type": "code",
   "execution_count": 5,
   "metadata": {
    "ExecuteTime": {
     "end_time": "2020-10-30T14:05:57.602114Z",
     "start_time": "2020-10-30T14:05:57.598177Z"
    }
   },
   "outputs": [],
   "source": [
    "names=['jim','jules','jerome']\n",
    "scores=[1,2,3]"
   ]
  },
  {
   "cell_type": "code",
   "execution_count": 9,
   "metadata": {
    "ExecuteTime": {
     "end_time": "2020-10-30T14:08:36.794877Z",
     "start_time": "2020-10-30T14:08:36.790485Z"
    }
   },
   "outputs": [],
   "source": [
    "l={name:score for name,score in zip(names,scores)}"
   ]
  },
  {
   "cell_type": "code",
   "execution_count": 10,
   "metadata": {
    "ExecuteTime": {
     "end_time": "2020-10-30T14:08:37.446526Z",
     "start_time": "2020-10-30T14:08:37.440982Z"
    },
    "scrolled": true
   },
   "outputs": [
    {
     "data": {
      "text/plain": [
       "{'jim': 1, 'jules': 2, 'jerome': 3}"
      ]
     },
     "execution_count": 10,
     "metadata": {},
     "output_type": "execute_result"
    }
   ],
   "source": [
    "l"
   ]
  },
  {
   "cell_type": "markdown",
   "metadata": {},
   "source": [
    "# compress the string "
   ]
  },
  {
   "cell_type": "markdown",
   "metadata": {},
   "source": [
    "[lien exercice](https://www.hackerrank.com/challenges/compress-the-string/problem)"
   ]
  },
  {
   "cell_type": "markdown",
   "metadata": {},
   "source": [
    "[lien explication groupby](https://www.geeksforgeeks.org/itertools-groupby-in-python/)"
   ]
  },
  {
   "cell_type": "code",
   "execution_count": 16,
   "metadata": {
    "ExecuteTime": {
     "end_time": "2020-10-30T14:18:56.740098Z",
     "start_time": "2020-10-30T14:18:51.002758Z"
    }
   },
   "outputs": [
    {
     "name": "stdout",
     "output_type": "stream",
     "text": [
      "112339998888766712636\n",
      "(2, 1) (1, 2) (2, 3) (3, 9) (4, 8) (1, 7) (2, 6) (1, 7) (1, 1) (1, 2) (1, 6) (1, 3) (1, 6)\n"
     ]
    }
   ],
   "source": [
    "from itertools import groupby\n",
    "print(*[(len(list(c)), int(k)) for k, c in groupby(input())])"
   ]
  },
  {
   "cell_type": "code",
   "execution_count": null,
   "metadata": {},
   "outputs": [],
   "source": []
  }
 ],
 "metadata": {
  "kernelspec": {
   "display_name": "Python 3",
   "language": "python",
   "name": "python3"
  },
  "language_info": {
   "codemirror_mode": {
    "name": "ipython",
    "version": 3
   },
   "file_extension": ".py",
   "mimetype": "text/x-python",
   "name": "python",
   "nbconvert_exporter": "python",
   "pygments_lexer": "ipython3",
   "version": "3.7.6"
  },
  "toc": {
   "base_numbering": 1,
   "nav_menu": {},
   "number_sections": true,
   "sideBar": false,
   "skip_h1_title": false,
   "title_cell": "Table of Contents",
   "title_sidebar": "Contents",
   "toc_cell": true,
   "toc_position": {
    "height": "47.1979px",
    "left": "832px",
    "top": "33px",
    "width": "128px"
   },
   "toc_section_display": false,
   "toc_window_display": true
  }
 },
 "nbformat": 4,
 "nbformat_minor": 4
}
