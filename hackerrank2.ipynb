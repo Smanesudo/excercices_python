{
 "cells": [
  {
   "cell_type": "markdown",
   "metadata": {
    "toc": true
   },
   "source": [
    "<h1>Table of Contents<span class=\"tocSkip\"></span></h1>\n",
    "<div class=\"toc\"><ul class=\"toc-item\"><li><span><a href=\"#migratorybirds\" data-toc-modified-id=\"migratorybirds-1\"><span class=\"toc-item-num\">1&nbsp;&nbsp;</span>migratorybirds</a></span></li><li><span><a href=\"#halloween-sale\" data-toc-modified-id=\"halloween-sale-2\"><span class=\"toc-item-num\">2&nbsp;&nbsp;</span>halloween sale</a></span></li><li><span><a href=\"#CamelCase\" data-toc-modified-id=\"CamelCase-3\"><span class=\"toc-item-num\">3&nbsp;&nbsp;</span>CamelCase</a></span></li><li><span><a href=\"#mars-exploration\" data-toc-modified-id=\"mars-exploration-4\"><span class=\"toc-item-num\">4&nbsp;&nbsp;</span>mars exploration</a></span></li><li><span><a href=\"#gemstones\" data-toc-modified-id=\"gemstones-5\"><span class=\"toc-item-num\">5&nbsp;&nbsp;</span>gemstones</a></span></li><li><span><a href=\"#findmedian\" data-toc-modified-id=\"findmedian-6\"><span class=\"toc-item-num\">6&nbsp;&nbsp;</span>findmedian</a></span></li><li><span><a href=\"#anagram\" data-toc-modified-id=\"anagram-7\"><span class=\"toc-item-num\">7&nbsp;&nbsp;</span>anagram</a></span></li><li><span><a href=\"#lonelyinteger\" data-toc-modified-id=\"lonelyinteger-8\"><span class=\"toc-item-num\">8&nbsp;&nbsp;</span>lonelyinteger</a></span></li><li><span><a href=\"#circularrotation\" data-toc-modified-id=\"circularrotation-9\"><span class=\"toc-item-num\">9&nbsp;&nbsp;</span>circularrotation</a></span></li><li><span><a href=\"#toys\" data-toc-modified-id=\"toys-10\"><span class=\"toc-item-num\">10&nbsp;&nbsp;</span>toys</a></span></li><li><span><a href=\"#gameofthrones\" data-toc-modified-id=\"gameofthrones-11\"><span class=\"toc-item-num\">11&nbsp;&nbsp;</span>gameofthrones</a></span></li><li><span><a href=\"#string-construction\" data-toc-modified-id=\"string-construction-12\"><span class=\"toc-item-num\">12&nbsp;&nbsp;</span>string construction</a></span></li><li><span><a href=\"#palindrome-index\" data-toc-modified-id=\"palindrome-index-13\"><span class=\"toc-item-num\">13&nbsp;&nbsp;</span>palindrome index</a></span></li><li><span><a href=\"#funny-string\" data-toc-modified-id=\"funny-string-14\"><span class=\"toc-item-num\">14&nbsp;&nbsp;</span>funny string</a></span></li><li><span><a href=\"#sherlock-and-squares\" data-toc-modified-id=\"sherlock-and-squares-15\"><span class=\"toc-item-num\">15&nbsp;&nbsp;</span>sherlock and squares</a></span></li><li><span><a href=\"#strange-counter\" data-toc-modified-id=\"strange-counter-16\"><span class=\"toc-item-num\">16&nbsp;&nbsp;</span>strange counter</a></span></li><li><span><a href=\"#big-sorting\" data-toc-modified-id=\"big-sorting-17\"><span class=\"toc-item-num\">17&nbsp;&nbsp;</span>big sorting</a></span></li><li><span><a href=\"#super-reduced-string\" data-toc-modified-id=\"super-reduced-string-18\"><span class=\"toc-item-num\">18&nbsp;&nbsp;</span>super reduced string</a></span></li><li><span><a href=\"#caesar-cipher\" data-toc-modified-id=\"caesar-cipher-19\"><span class=\"toc-item-num\">19&nbsp;&nbsp;</span>caesar cipher</a></span></li><li><span><a href=\"#hackerrank-in-a-string\" data-toc-modified-id=\"hackerrank-in-a-string-20\"><span class=\"toc-item-num\">20&nbsp;&nbsp;</span>hackerrank in a string</a></span></li><li><span><a href=\"#missing-numbers\" data-toc-modified-id=\"missing-numbers-21\"><span class=\"toc-item-num\">21&nbsp;&nbsp;</span>missing numbers</a></span></li><li><span><a href=\"#sherlock-and-the-valid-string\" data-toc-modified-id=\"sherlock-and-the-valid-string-22\"><span class=\"toc-item-num\">22&nbsp;&nbsp;</span>sherlock and the valid string</a></span></li><li><span><a href=\"#special-string-again\" data-toc-modified-id=\"special-string-again-23\"><span class=\"toc-item-num\">23&nbsp;&nbsp;</span>special string again</a></span></li><li><span><a href=\"#merge-the-tools\" data-toc-modified-id=\"merge-the-tools-24\"><span class=\"toc-item-num\">24&nbsp;&nbsp;</span>merge the tools</a></span></li><li><span><a href=\"#sherlock-and-anagrams\" data-toc-modified-id=\"sherlock-and-anagrams-25\"><span class=\"toc-item-num\">25&nbsp;&nbsp;</span>sherlock and anagrams</a></span></li></ul></div>"
   ]
  },
  {
   "cell_type": "markdown",
   "metadata": {
    "ExecuteTime": {
     "end_time": "2022-02-05T17:06:56.390167Z",
     "start_time": "2022-02-05T17:06:56.387670Z"
    }
   },
   "source": [
    "# migratorybirds"
   ]
  },
  {
   "cell_type": "code",
   "execution_count": 1,
   "metadata": {
    "ExecuteTime": {
     "end_time": "2022-02-05T16:11:56.429885Z",
     "start_time": "2022-02-05T16:11:56.419572Z"
    }
   },
   "outputs": [
    {
     "data": {
      "text/html": [
       "<a href=\"https://www.hackerrank.com/challenges/migratory-birds/problem?isFullScreen=true\">lien</a>"
      ],
      "text/plain": [
       "<IPython.core.display.HTML object>"
      ]
     },
     "metadata": {},
     "output_type": "display_data"
    }
   ],
   "source": [
    "from IPython.core.display import display, HTML\n",
    "display(HTML(\"\"\"<a href=\"https://www.hackerrank.com/challenges/migratory-birds/problem?isFullScreen=true\">lien</a>\"\"\"))"
   ]
  },
  {
   "cell_type": "code",
   "execution_count": 34,
   "metadata": {
    "ExecuteTime": {
     "end_time": "2022-02-05T16:30:39.954710Z",
     "start_time": "2022-02-05T16:30:39.950834Z"
    }
   },
   "outputs": [],
   "source": [
    "from collections import Counter\n",
    "def migratorybirds(arr):\n",
    "    counter=Counter(arr)\n",
    "    max_key = max(counter, key=counter.get)\n",
    "    return max_key"
   ]
  },
  {
   "cell_type": "code",
   "execution_count": 54,
   "metadata": {
    "ExecuteTime": {
     "end_time": "2022-02-05T16:49:05.443965Z",
     "start_time": "2022-02-05T16:49:05.438158Z"
    }
   },
   "outputs": [
    {
     "data": {
      "text/plain": [
       "3"
      ]
     },
     "execution_count": 54,
     "metadata": {},
     "output_type": "execute_result"
    }
   ],
   "source": [
    "Counter(arr).most_common(1)[0][0]"
   ]
  },
  {
   "cell_type": "code",
   "execution_count": 41,
   "metadata": {
    "ExecuteTime": {
     "end_time": "2022-02-05T16:36:02.571954Z",
     "start_time": "2022-02-05T16:36:02.567028Z"
    }
   },
   "outputs": [
    {
     "data": {
      "text/plain": [
       "2"
      ]
     },
     "execution_count": 41,
     "metadata": {},
     "output_type": "execute_result"
    }
   ],
   "source": [
    "migratorybirds(arr)"
   ]
  },
  {
   "cell_type": "code",
   "execution_count": 1,
   "metadata": {
    "ExecuteTime": {
     "end_time": "2022-02-06T01:53:21.270747Z",
     "start_time": "2022-02-06T01:53:21.257558Z"
    }
   },
   "outputs": [
    {
     "data": {
      "text/plain": [
       "{1: 2, 2: 3, 3: 4, 4: 1, 5: 3}"
      ]
     },
     "execution_count": 1,
     "metadata": {},
     "output_type": "execute_result"
    }
   ],
   "source": [
    "arr=[1,2,3,1,2,2,3,3,4,3,5,5,5]\n",
    "dictionary={}\n",
    "for a in arr:\n",
    "    if a in dictionary.keys():\n",
    "        dictionary[a]+=1\n",
    "    else:\n",
    "        dictionary[a]=1\n",
    "        \n",
    "dictionary        "
   ]
  },
  {
   "cell_type": "code",
   "execution_count": 2,
   "metadata": {
    "ExecuteTime": {
     "end_time": "2022-02-06T01:53:28.301137Z",
     "start_time": "2022-02-06T01:53:28.297017Z"
    }
   },
   "outputs": [],
   "source": [
    "d={k: v for k, v in sorted(dictionary.items(), key=lambda item: item[1])}"
   ]
  },
  {
   "cell_type": "code",
   "execution_count": 3,
   "metadata": {
    "ExecuteTime": {
     "end_time": "2022-02-06T01:53:29.065978Z",
     "start_time": "2022-02-06T01:53:29.061049Z"
    }
   },
   "outputs": [
    {
     "data": {
      "text/plain": [
       "{4: 1, 1: 2, 2: 3, 5: 3, 3: 4}"
      ]
     },
     "execution_count": 3,
     "metadata": {},
     "output_type": "execute_result"
    }
   ],
   "source": [
    "d"
   ]
  },
  {
   "cell_type": "code",
   "execution_count": 4,
   "metadata": {
    "ExecuteTime": {
     "end_time": "2022-02-06T01:54:19.272323Z",
     "start_time": "2022-02-06T01:54:19.268952Z"
    }
   },
   "outputs": [],
   "source": [
    "max_key = max(dictionary, key=dictionary.get)"
   ]
  },
  {
   "cell_type": "code",
   "execution_count": 5,
   "metadata": {
    "ExecuteTime": {
     "end_time": "2022-02-06T01:54:19.948244Z",
     "start_time": "2022-02-06T01:54:19.943932Z"
    }
   },
   "outputs": [
    {
     "data": {
      "text/plain": [
       "3"
      ]
     },
     "execution_count": 5,
     "metadata": {},
     "output_type": "execute_result"
    }
   ],
   "source": [
    "max_key"
   ]
  },
  {
   "cell_type": "markdown",
   "metadata": {
    "code_folding": []
   },
   "source": [
    "# halloween sale"
   ]
  },
  {
   "cell_type": "code",
   "execution_count": 58,
   "metadata": {
    "ExecuteTime": {
     "end_time": "2022-02-05T17:08:32.462286Z",
     "start_time": "2022-02-05T17:08:32.456628Z"
    }
   },
   "outputs": [
    {
     "data": {
      "text/html": [
       "<a href=\"https://www.hackerrank.com/challenges/halloween-sale/problem?isFullScreen=true\">lien</a>"
      ],
      "text/plain": [
       "<IPython.core.display.HTML object>"
      ]
     },
     "metadata": {},
     "output_type": "display_data"
    }
   ],
   "source": [
    "from IPython.core.display import display, HTML\n",
    "display(HTML(\"\"\"<a href=\"https://www.hackerrank.com/challenges/halloween-sale/problem?isFullScreen=true\">lien</a>\"\"\"))"
   ]
  },
  {
   "cell_type": "code",
   "execution_count": 96,
   "metadata": {
    "ExecuteTime": {
     "end_time": "2022-02-05T17:35:37.104434Z",
     "start_time": "2022-02-05T17:35:37.099795Z"
    }
   },
   "outputs": [],
   "source": [
    "def howManyGames(p, d, m, s):\n",
    "    count = 0\n",
    "    while s>= 0:\n",
    "        if p >= m:\n",
    "            s-=p\n",
    "            p-=d\n",
    "        else:\n",
    "            s-=m\n",
    "        if s>=0:\n",
    "            count+=1\n",
    "        print('s:{}count:{}'.format(s,count))\n",
    "            \n",
    "            \n",
    "    return count\n",
    "        "
   ]
  },
  {
   "cell_type": "code",
   "execution_count": 97,
   "metadata": {
    "ExecuteTime": {
     "end_time": "2022-02-05T17:35:37.629404Z",
     "start_time": "2022-02-05T17:35:37.621883Z"
    },
    "scrolled": true
   },
   "outputs": [
    {
     "name": "stdout",
     "output_type": "stream",
     "text": [
      "s:60count:1\n",
      "s:43count:2\n",
      "s:29count:3\n",
      "s:18count:4\n",
      "s:10count:5\n",
      "s:4count:6\n",
      "s:-2count:6\n"
     ]
    },
    {
     "data": {
      "text/plain": [
       "6"
      ]
     },
     "execution_count": 97,
     "metadata": {},
     "output_type": "execute_result"
    }
   ],
   "source": [
    "howManyGames(20,3,6,80)"
   ]
  },
  {
   "cell_type": "markdown",
   "metadata": {},
   "source": [
    "# CamelCase"
   ]
  },
  {
   "cell_type": "code",
   "execution_count": 109,
   "metadata": {
    "ExecuteTime": {
     "end_time": "2022-02-05T18:04:55.454757Z",
     "start_time": "2022-02-05T18:04:55.449001Z"
    }
   },
   "outputs": [
    {
     "data": {
      "text/html": [
       "<a href=\"https://www.hackerrank.com/challenges/camelcase/problem?isFullScreen=true\">lien</a>"
      ],
      "text/plain": [
       "<IPython.core.display.HTML object>"
      ]
     },
     "metadata": {},
     "output_type": "display_data"
    }
   ],
   "source": [
    "from IPython.core.display import display, HTML\n",
    "display(HTML(\"\"\"<a href=\"https://www.hackerrank.com/challenges/camelcase/problem?isFullScreen=true\">lien</a>\"\"\"))"
   ]
  },
  {
   "cell_type": "code",
   "execution_count": 106,
   "metadata": {
    "ExecuteTime": {
     "end_time": "2022-02-05T18:03:04.395547Z",
     "start_time": "2022-02-05T18:03:04.388100Z"
    }
   },
   "outputs": [
    {
     "data": {
      "text/plain": [
       "'save Change In The Editor'"
      ]
     },
     "execution_count": 106,
     "metadata": {},
     "output_type": "execute_result"
    }
   ],
   "source": [
    "s='saveChangeInTheEditor'\n",
    "v=''\n",
    "for el in s:\n",
    "    if el.islower():\n",
    "        v+=el\n",
    "    elif el.isupper():\n",
    "        v+=' '+el        \n",
    "return len(v.split())"
   ]
  },
  {
   "cell_type": "code",
   "execution_count": 108,
   "metadata": {
    "ExecuteTime": {
     "end_time": "2022-02-05T18:03:20.659379Z",
     "start_time": "2022-02-05T18:03:20.654209Z"
    }
   },
   "outputs": [
    {
     "data": {
      "text/plain": [
       "5"
      ]
     },
     "execution_count": 108,
     "metadata": {},
     "output_type": "execute_result"
    }
   ],
   "source": [
    "len(v.split())"
   ]
  },
  {
   "cell_type": "markdown",
   "metadata": {},
   "source": [
    "# mars exploration"
   ]
  },
  {
   "cell_type": "code",
   "execution_count": 110,
   "metadata": {
    "ExecuteTime": {
     "end_time": "2022-02-05T18:09:54.175384Z",
     "start_time": "2022-02-05T18:09:54.169889Z"
    }
   },
   "outputs": [
    {
     "data": {
      "text/html": [
       "<a href=\"https://www.hackerrank.com/challenges/mars-exploration/problem?isFullScreen=true\">lien</a>"
      ],
      "text/plain": [
       "<IPython.core.display.HTML object>"
      ]
     },
     "metadata": {},
     "output_type": "display_data"
    }
   ],
   "source": [
    "from IPython.core.display import display, HTML\n",
    "display(HTML(\"\"\"<a href=\"https://www.hackerrank.com/challenges/mars-exploration/problem?isFullScreen=true\">lien</a>\"\"\"))"
   ]
  },
  {
   "cell_type": "code",
   "execution_count": 118,
   "metadata": {
    "ExecuteTime": {
     "end_time": "2022-02-05T18:15:34.541141Z",
     "start_time": "2022-02-05T18:15:34.536187Z"
    }
   },
   "outputs": [],
   "source": [
    "def marsExploration(s):\n",
    "    count=0\n",
    "    length=len(s)//3\n",
    "    SOS='SOS'*length\n",
    "    for el1,el2 in zip(s,SOS):\n",
    "        if el1!=el2:\n",
    "            count+=1\n",
    "    return count\n",
    "        "
   ]
  },
  {
   "cell_type": "code",
   "execution_count": 120,
   "metadata": {
    "ExecuteTime": {
     "end_time": "2022-02-05T18:15:42.018188Z",
     "start_time": "2022-02-05T18:15:42.012330Z"
    }
   },
   "outputs": [
    {
     "data": {
      "text/plain": [
       "2"
      ]
     },
     "execution_count": 120,
     "metadata": {},
     "output_type": "execute_result"
    }
   ],
   "source": [
    "marsExploration('SOUSOU')"
   ]
  },
  {
   "cell_type": "code",
   "execution_count": 113,
   "metadata": {
    "ExecuteTime": {
     "end_time": "2022-02-05T18:15:03.501900Z",
     "start_time": "2022-02-05T18:15:03.497082Z"
    }
   },
   "outputs": [
    {
     "data": {
      "text/plain": [
       "3"
      ]
     },
     "execution_count": 113,
     "metadata": {},
     "output_type": "execute_result"
    }
   ],
   "source": [
    "len('SOS')"
   ]
  },
  {
   "cell_type": "markdown",
   "metadata": {},
   "source": [
    "# gemstones"
   ]
  },
  {
   "cell_type": "markdown",
   "metadata": {},
   "source": [
    "[gemstones](https://www.hackerrank.com/challenges/gem-stones/problem?isFullScreen=true)"
   ]
  },
  {
   "cell_type": "code",
   "execution_count": 87,
   "metadata": {
    "ExecuteTime": {
     "end_time": "2022-02-06T03:44:44.767449Z",
     "start_time": "2022-02-06T03:44:44.763788Z"
    }
   },
   "outputs": [
    {
     "data": {
      "text/plain": [
       "['abcdee', 'abc', 'abe']"
      ]
     },
     "execution_count": 87,
     "metadata": {},
     "output_type": "execute_result"
    }
   ],
   "source": [
    "arr=['abcdee','abc','abe']\n",
    "arr"
   ]
  },
  {
   "cell_type": "code",
   "execution_count": 136,
   "metadata": {
    "ExecuteTime": {
     "end_time": "2022-02-05T19:26:09.758973Z",
     "start_time": "2022-02-05T19:26:09.754125Z"
    }
   },
   "outputs": [
    {
     "name": "stdout",
     "output_type": "stream",
     "text": [
      "6\n"
     ]
    }
   ],
   "source": [
    "max=0\n",
    "for el in arr:\n",
    "   \n",
    "    if max<=len(el):\n",
    "        max=len(el)\n",
    "print(max)"
   ]
  },
  {
   "cell_type": "code",
   "execution_count": 88,
   "metadata": {
    "ExecuteTime": {
     "end_time": "2022-02-06T03:44:51.007494Z",
     "start_time": "2022-02-06T03:44:51.004871Z"
    }
   },
   "outputs": [],
   "source": [
    "arr.sort(key=len)"
   ]
  },
  {
   "cell_type": "code",
   "execution_count": 89,
   "metadata": {
    "ExecuteTime": {
     "end_time": "2022-02-06T03:44:51.591347Z",
     "start_time": "2022-02-06T03:44:51.586852Z"
    }
   },
   "outputs": [
    {
     "data": {
      "text/plain": [
       "['abc', 'abe', 'abcdee']"
      ]
     },
     "execution_count": 89,
     "metadata": {},
     "output_type": "execute_result"
    }
   ],
   "source": [
    "arr"
   ]
  },
  {
   "cell_type": "code",
   "execution_count": 142,
   "metadata": {
    "ExecuteTime": {
     "end_time": "2022-02-05T19:29:33.436281Z",
     "start_time": "2022-02-05T19:29:33.430195Z"
    }
   },
   "outputs": [
    {
     "data": {
      "text/plain": [
       "('abcdee', ['abc', 'abe'])"
      ]
     },
     "execution_count": 142,
     "metadata": {},
     "output_type": "execute_result"
    }
   ],
   "source": [
    "arr[-1],arr[:-1]"
   ]
  },
  {
   "cell_type": "code",
   "execution_count": 148,
   "metadata": {
    "ExecuteTime": {
     "end_time": "2022-02-05T19:35:58.799373Z",
     "start_time": "2022-02-05T19:35:58.793800Z"
    }
   },
   "outputs": [],
   "source": [
    "def gemstones(arr):\n",
    "    arr.sort(key=len)\n",
    "    count = 0\n",
    "    for el1 in set(arr[-1]):\n",
    "        c = 0\n",
    "        for el2 in arr[:-1]:\n",
    "            if el1 in el2:\n",
    "                c += 1\n",
    "        if c == len(arr[:-1]):\n",
    "            count += 1\n",
    "    return count"
   ]
  },
  {
   "cell_type": "code",
   "execution_count": 149,
   "metadata": {
    "ExecuteTime": {
     "end_time": "2022-02-05T19:35:59.520294Z",
     "start_time": "2022-02-05T19:35:59.515000Z"
    }
   },
   "outputs": [
    {
     "data": {
      "text/plain": [
       "2"
      ]
     },
     "execution_count": 149,
     "metadata": {},
     "output_type": "execute_result"
    }
   ],
   "source": [
    "gemstones(arr)"
   ]
  },
  {
   "cell_type": "code",
   "execution_count": 147,
   "metadata": {
    "ExecuteTime": {
     "end_time": "2022-02-05T19:35:43.983776Z",
     "start_time": "2022-02-05T19:35:43.978417Z"
    }
   },
   "outputs": [
    {
     "data": {
      "text/plain": [
       "{'a', 'b', 'c', 'd', 'e'}"
      ]
     },
     "execution_count": 147,
     "metadata": {},
     "output_type": "execute_result"
    }
   ],
   "source": [
    "set(arr[-1])"
   ]
  },
  {
   "cell_type": "markdown",
   "metadata": {},
   "source": [
    "# findmedian"
   ]
  },
  {
   "cell_type": "markdown",
   "metadata": {},
   "source": [
    "[findmedian](https://www.hackerrank.com/challenges/find-the-median/problem?isFullScreen=true)"
   ]
  },
  {
   "cell_type": "code",
   "execution_count": 159,
   "metadata": {
    "ExecuteTime": {
     "end_time": "2022-02-05T20:19:53.422680Z",
     "start_time": "2022-02-05T20:19:53.418884Z"
    }
   },
   "outputs": [],
   "source": [
    "def findmedian(arr):\n",
    "    middle=len(arr)//2\n",
    "    arr.sort()\n",
    "    return arr[middle]"
   ]
  },
  {
   "cell_type": "markdown",
   "metadata": {},
   "source": [
    "# anagram"
   ]
  },
  {
   "cell_type": "markdown",
   "metadata": {},
   "source": [
    "[anagram](https://www.hackerrank.com/challenges/anagram/problem?isFullScreen=true)"
   ]
  },
  {
   "cell_type": "code",
   "execution_count": 28,
   "metadata": {
    "ExecuteTime": {
     "end_time": "2022-02-05T21:36:16.123423Z",
     "start_time": "2022-02-05T21:36:16.117551Z"
    }
   },
   "outputs": [],
   "source": [
    "def anagram(s):\n",
    "    n=len(s)\n",
    "    if n%2==1:\n",
    "        return -1\n",
    "    s1=s[:n//2]\n",
    "    s2=s[n//2:]\n",
    "    c1=Counter(s1)\n",
    "    c2=Counter(s2)\n",
    "    return sum((c1-c2).values())"
   ]
  },
  {
   "cell_type": "code",
   "execution_count": 29,
   "metadata": {
    "ExecuteTime": {
     "end_time": "2022-02-05T21:36:16.673534Z",
     "start_time": "2022-02-05T21:36:16.668722Z"
    }
   },
   "outputs": [
    {
     "data": {
      "text/plain": [
       "3"
      ]
     },
     "execution_count": 29,
     "metadata": {},
     "output_type": "execute_result"
    }
   ],
   "source": [
    "anagram('aaabbbcd')"
   ]
  },
  {
   "cell_type": "code",
   "execution_count": 35,
   "metadata": {
    "ExecuteTime": {
     "end_time": "2022-02-05T21:39:15.993758Z",
     "start_time": "2022-02-05T21:39:15.989498Z"
    }
   },
   "outputs": [],
   "source": [
    "from collections import Counter\n",
    "s1='aaabefg'\n",
    "s2='bbbdijk'\n",
    "c1=Counter(s1)\n",
    "c2=Counter(s2)"
   ]
  },
  {
   "cell_type": "code",
   "execution_count": 36,
   "metadata": {
    "ExecuteTime": {
     "end_time": "2022-02-05T21:39:17.726754Z",
     "start_time": "2022-02-05T21:39:17.721586Z"
    }
   },
   "outputs": [
    {
     "data": {
      "text/plain": [
       "Counter({'a': 3, 'b': 1, 'e': 1, 'f': 1, 'g': 1})"
      ]
     },
     "execution_count": 36,
     "metadata": {},
     "output_type": "execute_result"
    }
   ],
   "source": [
    "c1"
   ]
  },
  {
   "cell_type": "code",
   "execution_count": 37,
   "metadata": {
    "ExecuteTime": {
     "end_time": "2022-02-05T21:39:18.777963Z",
     "start_time": "2022-02-05T21:39:18.770247Z"
    }
   },
   "outputs": [
    {
     "data": {
      "text/plain": [
       "Counter({'b': 3, 'd': 1, 'i': 1, 'j': 1, 'k': 1})"
      ]
     },
     "execution_count": 37,
     "metadata": {},
     "output_type": "execute_result"
    }
   ],
   "source": [
    "c2"
   ]
  },
  {
   "cell_type": "code",
   "execution_count": 38,
   "metadata": {
    "ExecuteTime": {
     "end_time": "2022-02-05T21:39:21.560811Z",
     "start_time": "2022-02-05T21:39:21.555857Z"
    }
   },
   "outputs": [
    {
     "data": {
      "text/plain": [
       "Counter({'a': 3, 'e': 1, 'f': 1, 'g': 1})"
      ]
     },
     "execution_count": 38,
     "metadata": {},
     "output_type": "execute_result"
    }
   ],
   "source": [
    "c1-c2"
   ]
  },
  {
   "cell_type": "code",
   "execution_count": 39,
   "metadata": {
    "ExecuteTime": {
     "end_time": "2022-02-05T21:39:44.099481Z",
     "start_time": "2022-02-05T21:39:44.093715Z"
    }
   },
   "outputs": [
    {
     "data": {
      "text/plain": [
       "Counter({'b': 2, 'd': 1, 'i': 1, 'j': 1, 'k': 1})"
      ]
     },
     "execution_count": 39,
     "metadata": {},
     "output_type": "execute_result"
    }
   ],
   "source": [
    "c2-c1"
   ]
  },
  {
   "cell_type": "code",
   "execution_count": 34,
   "metadata": {
    "ExecuteTime": {
     "end_time": "2022-02-05T21:39:06.334064Z",
     "start_time": "2022-02-05T21:39:06.329404Z"
    }
   },
   "outputs": [
    {
     "data": {
      "text/plain": [
       "3"
      ]
     },
     "execution_count": 34,
     "metadata": {},
     "output_type": "execute_result"
    }
   ],
   "source": [
    "sum((c1-c2).values())"
   ]
  },
  {
   "cell_type": "markdown",
   "metadata": {},
   "source": [
    "# lonelyinteger"
   ]
  },
  {
   "cell_type": "markdown",
   "metadata": {},
   "source": [
    "[lonelyinteger](https://www.hackerrank.com/challenges/lonely-integer/problem?isFullScreen=true)"
   ]
  },
  {
   "cell_type": "code",
   "execution_count": 49,
   "metadata": {
    "ExecuteTime": {
     "end_time": "2022-02-05T21:50:41.856124Z",
     "start_time": "2022-02-05T21:50:41.851535Z"
    }
   },
   "outputs": [],
   "source": [
    "def lonelyinteger(a):\n",
    "    c=Counter(a)\n",
    "    return [k for k,v in c.items() if v==1][0]"
   ]
  },
  {
   "cell_type": "code",
   "execution_count": 55,
   "metadata": {
    "ExecuteTime": {
     "end_time": "2022-02-05T21:51:15.261674Z",
     "start_time": "2022-02-05T21:51:15.256850Z"
    }
   },
   "outputs": [
    {
     "data": {
      "text/plain": [
       "Counter({1: 2, 2: 2, 3: 2, 4: 1, 0: 2, 5: 2})"
      ]
     },
     "execution_count": 55,
     "metadata": {},
     "output_type": "execute_result"
    }
   ],
   "source": [
    "a=[1,2,3,3,4,1,2,0,0,5,5]\n",
    "c=Counter(a)\n",
    "c"
   ]
  },
  {
   "cell_type": "code",
   "execution_count": 56,
   "metadata": {
    "ExecuteTime": {
     "end_time": "2022-02-05T21:51:15.722091Z",
     "start_time": "2022-02-05T21:51:15.717922Z"
    }
   },
   "outputs": [
    {
     "data": {
      "text/plain": [
       "4"
      ]
     },
     "execution_count": 56,
     "metadata": {},
     "output_type": "execute_result"
    }
   ],
   "source": [
    "lonelyinteger(a)"
   ]
  },
  {
   "cell_type": "code",
   "execution_count": 48,
   "metadata": {
    "ExecuteTime": {
     "end_time": "2022-02-05T21:50:26.119981Z",
     "start_time": "2022-02-05T21:50:26.114327Z"
    }
   },
   "outputs": [
    {
     "data": {
      "text/plain": [
       "0"
      ]
     },
     "execution_count": 48,
     "metadata": {},
     "output_type": "execute_result"
    }
   ],
   "source": [
    "[k for k,v in c.items() if v==1][0]"
   ]
  },
  {
   "cell_type": "markdown",
   "metadata": {},
   "source": [
    "# circularrotation"
   ]
  },
  {
   "cell_type": "markdown",
   "metadata": {},
   "source": [
    "[circularrotation](https://www.hackerrank.com/challenges/circular-array-rotation/problem?isFullScreen=true)"
   ]
  },
  {
   "cell_type": "code",
   "execution_count": 140,
   "metadata": {
    "ExecuteTime": {
     "end_time": "2022-02-05T22:19:53.216838Z",
     "start_time": "2022-02-05T22:19:53.212228Z"
    }
   },
   "outputs": [],
   "source": [
    "def circularArrayRotation(a, k, queries):\n",
    "    n = len(a)\n",
    "    k = k % n\n",
    "    b = a[n-k:]+a[:n-k]\n",
    "    return [b[el] for el in queries]"
   ]
  },
  {
   "cell_type": "code",
   "execution_count": 137,
   "metadata": {
    "ExecuteTime": {
     "end_time": "2022-02-05T22:12:45.789888Z",
     "start_time": "2022-02-05T22:12:45.786376Z"
    }
   },
   "outputs": [],
   "source": [
    "a = [1, 2, 3, 4, 5, 6, 7]\n",
    "k = 8 % len(a)\n",
    "b = [7, 1, 2, 3, 4, 5, 6]"
   ]
  },
  {
   "cell_type": "code",
   "execution_count": 138,
   "metadata": {
    "ExecuteTime": {
     "end_time": "2022-02-05T22:12:46.302111Z",
     "start_time": "2022-02-05T22:12:46.298399Z"
    }
   },
   "outputs": [],
   "source": [
    "b=a[len(a)-k:]+a[:len(a)-k]"
   ]
  },
  {
   "cell_type": "code",
   "execution_count": 139,
   "metadata": {
    "ExecuteTime": {
     "end_time": "2022-02-05T22:12:46.682804Z",
     "start_time": "2022-02-05T22:12:46.678360Z"
    },
    "scrolled": true
   },
   "outputs": [
    {
     "data": {
      "text/plain": [
       "[7, 1, 2, 3, 4, 5, 6]"
      ]
     },
     "execution_count": 139,
     "metadata": {},
     "output_type": "execute_result"
    }
   ],
   "source": [
    "b"
   ]
  },
  {
   "cell_type": "markdown",
   "metadata": {},
   "source": [
    "# toys"
   ]
  },
  {
   "cell_type": "markdown",
   "metadata": {},
   "source": [
    "[toys](https://www.hackerrank.com/challenges/priyanka-and-toys/problem)"
   ]
  },
  {
   "cell_type": "code",
   "execution_count": null,
   "metadata": {},
   "outputs": [],
   "source": []
  },
  {
   "cell_type": "code",
   "execution_count": 6,
   "metadata": {
    "ExecuteTime": {
     "end_time": "2022-02-05T23:15:41.676616Z",
     "start_time": "2022-02-05T23:15:41.671400Z"
    }
   },
   "outputs": [],
   "source": [
    "def toys(nums):\n",
    "    \n",
    "    nums.sort()\n",
    "    count = 0\n",
    "    cur = -5\n",
    "    for i in nums:\n",
    "        if i - cur <= 4:\n",
    "            continue\n",
    "        else:\n",
    "            count += 1\n",
    "            cur = i\n",
    "    return count"
   ]
  },
  {
   "cell_type": "code",
   "execution_count": 8,
   "metadata": {
    "ExecuteTime": {
     "end_time": "2022-02-05T23:17:15.980968Z",
     "start_time": "2022-02-05T23:17:15.975780Z"
    }
   },
   "outputs": [
    {
     "data": {
      "text/plain": [
       "[1, 2, 3, 7, 12, 14, 21, 21]"
      ]
     },
     "execution_count": 8,
     "metadata": {},
     "output_type": "execute_result"
    }
   ],
   "source": [
    "a"
   ]
  },
  {
   "cell_type": "code",
   "execution_count": 7,
   "metadata": {
    "ExecuteTime": {
     "end_time": "2022-02-05T23:15:42.107101Z",
     "start_time": "2022-02-05T23:15:42.102795Z"
    }
   },
   "outputs": [
    {
     "data": {
      "text/plain": [
       "4"
      ]
     },
     "execution_count": 7,
     "metadata": {},
     "output_type": "execute_result"
    }
   ],
   "source": [
    "toys(a)"
   ]
  },
  {
   "cell_type": "code",
   "execution_count": 2,
   "metadata": {
    "ExecuteTime": {
     "end_time": "2022-02-05T23:15:24.732078Z",
     "start_time": "2022-02-05T23:15:24.728343Z"
    }
   },
   "outputs": [],
   "source": [
    "a=[1,2,3,21,7,12,14,21]\n",
    "a.sort()"
   ]
  },
  {
   "cell_type": "code",
   "execution_count": 2,
   "metadata": {
    "ExecuteTime": {
     "end_time": "2022-02-05T23:06:49.603154Z",
     "start_time": "2022-02-05T23:06:49.589010Z"
    }
   },
   "outputs": [
    {
     "data": {
      "text/plain": [
       "[1, 2, 3, 7, 12, 14, 21, 21]"
      ]
     },
     "execution_count": 2,
     "metadata": {},
     "output_type": "execute_result"
    }
   ],
   "source": [
    "a"
   ]
  },
  {
   "cell_type": "code",
   "execution_count": null,
   "metadata": {
    "ExecuteTime": {
     "start_time": "2022-02-05T23:06:50.472Z"
    }
   },
   "outputs": [],
   "source": [
    "count=1\n",
    "i=0\n",
    "while i<len(a):\n",
    "    j=0\n",
    "    while j<len(a)-i:\n",
    "        if a[j+i]-a[i]<=4:\n",
    "            j+=1\n",
    "        else:\n",
    "            i+=j\n",
    "            count+=1\n",
    "\n",
    "        "
   ]
  },
  {
   "cell_type": "markdown",
   "metadata": {},
   "source": [
    "# gameofthrones"
   ]
  },
  {
   "cell_type": "markdown",
   "metadata": {},
   "source": [
    "[game](https://www.hackerrank.com/challenges/game-of-thrones/problem?isFullScreen=true)"
   ]
  },
  {
   "cell_type": "code",
   "execution_count": 27,
   "metadata": {
    "ExecuteTime": {
     "end_time": "2022-02-05T23:34:22.016003Z",
     "start_time": "2022-02-05T23:34:22.012368Z"
    }
   },
   "outputs": [],
   "source": [
    "from collections import Counter\n",
    "s='abcdeffeeabcd'"
   ]
  },
  {
   "cell_type": "code",
   "execution_count": 31,
   "metadata": {
    "ExecuteTime": {
     "end_time": "2022-02-05T23:35:23.664800Z",
     "start_time": "2022-02-05T23:35:23.659783Z"
    }
   },
   "outputs": [],
   "source": [
    "def gameofthrones(s):\n",
    "    c = Counter(s)\n",
    "    count_odd = 0\n",
    "    for i in c.items():\n",
    "        if i[1] % 2 != 0:\n",
    "            count_odd += 1\n",
    "    if count_odd >= 2:\n",
    "        return 'NO'\n",
    "    else:\n",
    "        return 'YES'"
   ]
  },
  {
   "cell_type": "code",
   "execution_count": 32,
   "metadata": {
    "ExecuteTime": {
     "end_time": "2022-02-05T23:35:24.193008Z",
     "start_time": "2022-02-05T23:35:24.188739Z"
    }
   },
   "outputs": [
    {
     "name": "stdout",
     "output_type": "stream",
     "text": [
      "2\n",
      "2\n",
      "2\n",
      "2\n",
      "1\n"
     ]
    }
   ],
   "source": [
    "for i in c.items():\n",
    "    print(i[1])"
   ]
  },
  {
   "cell_type": "code",
   "execution_count": 33,
   "metadata": {
    "ExecuteTime": {
     "end_time": "2022-02-05T23:35:24.570105Z",
     "start_time": "2022-02-05T23:35:24.565802Z"
    }
   },
   "outputs": [
    {
     "data": {
      "text/plain": [
       "'YES'"
      ]
     },
     "execution_count": 33,
     "metadata": {},
     "output_type": "execute_result"
    }
   ],
   "source": [
    "gameofthrones(s)    "
   ]
  },
  {
   "cell_type": "markdown",
   "metadata": {},
   "source": [
    "# string construction"
   ]
  },
  {
   "cell_type": "markdown",
   "metadata": {},
   "source": [
    "[lien](https://www.hackerrank.com/challenges/string-construction/problem?isFullScreen=true)"
   ]
  },
  {
   "cell_type": "code",
   "execution_count": 9,
   "metadata": {
    "ExecuteTime": {
     "end_time": "2022-02-06T02:33:26.079903Z",
     "start_time": "2022-02-06T02:33:26.076245Z"
    }
   },
   "outputs": [],
   "source": [
    "s='abcabc'\n",
    "from collections import Counter\n",
    "c=Counter(s)"
   ]
  },
  {
   "cell_type": "code",
   "execution_count": 10,
   "metadata": {
    "ExecuteTime": {
     "end_time": "2022-02-06T02:33:26.648761Z",
     "start_time": "2022-02-06T02:33:26.643912Z"
    }
   },
   "outputs": [
    {
     "data": {
      "text/plain": [
       "3"
      ]
     },
     "execution_count": 10,
     "metadata": {},
     "output_type": "execute_result"
    }
   ],
   "source": [
    "len(c)"
   ]
  },
  {
   "cell_type": "code",
   "execution_count": 6,
   "metadata": {
    "ExecuteTime": {
     "end_time": "2022-02-06T02:24:35.993501Z",
     "start_time": "2022-02-06T02:24:35.990748Z"
    }
   },
   "outputs": [],
   "source": [
    "p = []\n",
    "count = 0\n",
    "p.append(s[0])\n",
    "count += 1\n",
    "i = 1\n",
    "while i <= len(s):\n",
    "\n",
    "    if s[i] != s[i-1]:\n",
    "        p.append(s[i])\n",
    "        count += 1\n",
    "        i+=1\n",
    "    else:\n",
    "        continue"
   ]
  },
  {
   "cell_type": "code",
   "execution_count": 7,
   "metadata": {
    "ExecuteTime": {
     "end_time": "2022-02-06T02:24:41.559151Z",
     "start_time": "2022-02-06T02:24:41.553960Z"
    }
   },
   "outputs": [
    {
     "data": {
      "text/plain": [
       "['a']"
      ]
     },
     "execution_count": 7,
     "metadata": {},
     "output_type": "execute_result"
    }
   ],
   "source": [
    "p"
   ]
  },
  {
   "cell_type": "code",
   "execution_count": 11,
   "metadata": {
    "ExecuteTime": {
     "end_time": "2022-02-06T02:34:56.443687Z",
     "start_time": "2022-02-06T02:34:56.440196Z"
    }
   },
   "outputs": [],
   "source": [
    "def stringconstruction(s):\n",
    "    return len(Counter(s))"
   ]
  },
  {
   "cell_type": "markdown",
   "metadata": {},
   "source": [
    "# palindrome index"
   ]
  },
  {
   "cell_type": "markdown",
   "metadata": {},
   "source": [
    "[lien](https://www.hackerrank.com/challenges/palindrome-index/problem?isFullScreen=true)"
   ]
  },
  {
   "cell_type": "code",
   "execution_count": 45,
   "metadata": {
    "ExecuteTime": {
     "end_time": "2022-02-06T03:11:08.181674Z",
     "start_time": "2022-02-06T03:11:08.175443Z"
    }
   },
   "outputs": [],
   "source": [
    "def palindromeindex(S):\n",
    "    l = len(S)\n",
    "    a = -1\n",
    "    for i in range(l):\n",
    "        if S[i] != S[l - 1 - i]:\n",
    "            x = S[:i] + S[i + 1:]\n",
    "            #print(x)\n",
    "            if x == x[::-1]:\n",
    "                a = i\n",
    "            else:\n",
    "                a = l - 1 - i\n",
    "            break\n",
    "    return a\n",
    "        "
   ]
  },
  {
   "cell_type": "code",
   "execution_count": 49,
   "metadata": {
    "ExecuteTime": {
     "end_time": "2022-02-06T03:12:08.853191Z",
     "start_time": "2022-02-06T03:12:08.848127Z"
    }
   },
   "outputs": [
    {
     "data": {
      "text/plain": [
       "2"
      ]
     },
     "execution_count": 49,
     "metadata": {},
     "output_type": "execute_result"
    }
   ],
   "source": [
    "palindromeindex('abdcba')"
   ]
  },
  {
   "cell_type": "code",
   "execution_count": 41,
   "metadata": {
    "ExecuteTime": {
     "end_time": "2022-02-06T03:06:55.822594Z",
     "start_time": "2022-02-06T03:06:55.817409Z"
    },
    "scrolled": false
   },
   "outputs": [
    {
     "data": {
      "text/plain": [
       "'bcdcbd'"
      ]
     },
     "execution_count": 41,
     "metadata": {},
     "output_type": "execute_result"
    }
   ],
   "source": [
    "s='abcdcbd'\n",
    "s[1:]"
   ]
  },
  {
   "cell_type": "markdown",
   "metadata": {},
   "source": [
    "# funny string"
   ]
  },
  {
   "cell_type": "markdown",
   "metadata": {},
   "source": [
    "[funny string](https://www.hackerrank.com/challenges/funny-string/problem)"
   ]
  },
  {
   "cell_type": "code",
   "execution_count": 77,
   "metadata": {
    "ExecuteTime": {
     "end_time": "2022-02-06T03:32:57.869857Z",
     "start_time": "2022-02-06T03:32:57.862378Z"
    }
   },
   "outputs": [],
   "source": [
    "def funny(s):\n",
    "    l_s=[ord(i) for i in s]\n",
    "    #print(l_s)\n",
    "    l_reverse=[ord(i) for i in s[::-1]]\n",
    "    #print(l_reverse)\n",
    "    l_s_diff,l_reverse_diff=[],[]\n",
    "    for i in range(len(l_s)-1):\n",
    "        l_s_diff.append(abs(l_s[i+1]-l_s[i]))\n",
    "        l_reverse_diff.append(abs(l_reverse[i]-l_reverse[i+1]))\n",
    "        #print(l_s_diff,l_reverse_diff)\n",
    "    if l_s_diff==l_reverse_diff:\n",
    "        return 'Funny'\n",
    "    else: \n",
    "        return 'Not Funny'\n",
    "  \n",
    "    "
   ]
  },
  {
   "cell_type": "code",
   "execution_count": 78,
   "metadata": {
    "ExecuteTime": {
     "end_time": "2022-02-06T03:32:58.590588Z",
     "start_time": "2022-02-06T03:32:58.585779Z"
    }
   },
   "outputs": [
    {
     "data": {
      "text/plain": [
       "'Funny'"
      ]
     },
     "execution_count": 78,
     "metadata": {},
     "output_type": "execute_result"
    }
   ],
   "source": [
    "funny('ovyvzvptyvpvpxyztlrztsrztztqvrxtxuxq')"
   ]
  },
  {
   "cell_type": "code",
   "execution_count": 72,
   "metadata": {
    "ExecuteTime": {
     "end_time": "2022-02-06T03:27:39.681951Z",
     "start_time": "2022-02-06T03:27:39.675956Z"
    }
   },
   "outputs": [
    {
     "name": "stdout",
     "output_type": "stream",
     "text": [
      "[2] [2]\n",
      "[2, 21] [2, 21]\n",
      "[2, 21, 2] [2, 21, 2]\n"
     ]
    },
    {
     "data": {
      "text/plain": [
       "'Funny'"
      ]
     },
     "execution_count": 72,
     "metadata": {},
     "output_type": "execute_result"
    }
   ],
   "source": [
    "funny('acxz')"
   ]
  },
  {
   "cell_type": "code",
   "execution_count": null,
   "metadata": {},
   "outputs": [],
   "source": []
  },
  {
   "cell_type": "code",
   "execution_count": 61,
   "metadata": {
    "ExecuteTime": {
     "end_time": "2022-02-06T03:21:48.105498Z",
     "start_time": "2022-02-06T03:21:48.102700Z"
    }
   },
   "outputs": [],
   "source": [
    "s='lmnop'\n",
    "reverse=s[::-1]"
   ]
  },
  {
   "cell_type": "code",
   "execution_count": 53,
   "metadata": {
    "ExecuteTime": {
     "end_time": "2022-02-06T03:14:16.892131Z",
     "start_time": "2022-02-06T03:14:16.888233Z"
    }
   },
   "outputs": [],
   "source": [
    "l_s=[ord(i) for i in s]\n",
    "l_reverse=[ord(i) for i in reverse]"
   ]
  },
  {
   "cell_type": "code",
   "execution_count": 54,
   "metadata": {
    "ExecuteTime": {
     "end_time": "2022-02-06T03:14:21.723669Z",
     "start_time": "2022-02-06T03:14:21.718949Z"
    }
   },
   "outputs": [
    {
     "data": {
      "text/plain": [
       "[108, 109, 110, 111, 112]"
      ]
     },
     "execution_count": 54,
     "metadata": {},
     "output_type": "execute_result"
    }
   ],
   "source": [
    "l_s"
   ]
  },
  {
   "cell_type": "code",
   "execution_count": 55,
   "metadata": {
    "ExecuteTime": {
     "end_time": "2022-02-06T03:14:26.635127Z",
     "start_time": "2022-02-06T03:14:26.630310Z"
    }
   },
   "outputs": [
    {
     "data": {
      "text/plain": [
       "[112, 111, 110, 109, 108]"
      ]
     },
     "execution_count": 55,
     "metadata": {},
     "output_type": "execute_result"
    }
   ],
   "source": [
    "l_reverse"
   ]
  },
  {
   "cell_type": "code",
   "execution_count": 58,
   "metadata": {
    "ExecuteTime": {
     "end_time": "2022-02-06T03:16:46.252593Z",
     "start_time": "2022-02-06T03:16:46.246352Z"
    }
   },
   "outputs": [
    {
     "data": {
      "text/plain": [
       "[1, 1, 1, 1]"
      ]
     },
     "execution_count": 58,
     "metadata": {},
     "output_type": "execute_result"
    }
   ],
   "source": [
    "l=[]\n",
    "for i in range(len(l_s)-1):\n",
    "    l.append(l_s[i+1]-l_s[i])\n",
    "l    "
   ]
  },
  {
   "cell_type": "markdown",
   "metadata": {},
   "source": [
    "# sherlock and squares"
   ]
  },
  {
   "cell_type": "markdown",
   "metadata": {},
   "source": [
    "[lien](https://www.hackerrank.com/challenges/sherlock-and-squares/problem?isFullScreen=true)"
   ]
  },
  {
   "cell_type": "code",
   "execution_count": 15,
   "metadata": {
    "ExecuteTime": {
     "end_time": "2022-02-06T14:46:42.616855Z",
     "start_time": "2022-02-06T14:46:42.607783Z"
    }
   },
   "outputs": [],
   "source": [
    "#version plus rapide\n",
    "def squares(a,b):\n",
    "    for val in range(int(math.sqrt(a)),int(math.sqrt(b+1))+1):\n",
    "        if a <=val*val<=b: #and val*val>=a:\n",
    "            count+=1\n",
    "    return count "
   ]
  },
  {
   "cell_type": "code",
   "execution_count": 11,
   "metadata": {
    "ExecuteTime": {
     "end_time": "2022-02-06T14:35:46.267959Z",
     "start_time": "2022-02-06T14:35:46.260656Z"
    }
   },
   "outputs": [
    {
     "name": "stdout",
     "output_type": "stream",
     "text": [
      "4\n",
      "4\n",
      "4\n",
      "4\n",
      "4\n",
      "4\n",
      "4\n",
      "4\n",
      "5\n"
     ]
    },
    {
     "data": {
      "text/plain": [
       "1"
      ]
     },
     "execution_count": 11,
     "metadata": {},
     "output_type": "execute_result"
    }
   ],
   "source": [
    "#version plus lente \n",
    "\n",
    "a,b=17,25\n",
    "import math\n",
    "count=0\n",
    "for i in range(a,b+1):\n",
    "    val=int(math.sqrt(i))\n",
    "    print(val)\n",
    "    if i/val==val:\n",
    "        count+=1\n",
    "count"
   ]
  },
  {
   "cell_type": "markdown",
   "metadata": {},
   "source": [
    "# strange counter"
   ]
  },
  {
   "cell_type": "markdown",
   "metadata": {},
   "source": [
    "[lien](https://www.hackerrank.com/challenges/strange-code/problem?isFullScreen=true)"
   ]
  },
  {
   "cell_type": "code",
   "execution_count": 16,
   "metadata": {
    "ExecuteTime": {
     "end_time": "2022-02-06T14:55:07.417995Z",
     "start_time": "2022-02-06T14:55:07.415471Z"
    }
   },
   "outputs": [],
   "source": [
    "def strangecounter(t):\n",
    "    \n",
    "    rem = 3\n",
    "    while t > rem:\n",
    "        t = t-rem\n",
    "        rem *= 2\n",
    "    return rem-t+1\n",
    "\n",
    "    "
   ]
  },
  {
   "cell_type": "markdown",
   "metadata": {},
   "source": [
    "# big sorting"
   ]
  },
  {
   "cell_type": "markdown",
   "metadata": {},
   "source": [
    "[lien](https://www.hackerrank.com/challenges/big-sorting/problem?isFullScreen=true)"
   ]
  },
  {
   "cell_type": "code",
   "execution_count": 61,
   "metadata": {
    "ExecuteTime": {
     "end_time": "2022-02-06T15:23:32.353389Z",
     "start_time": "2022-02-06T15:23:32.349214Z"
    }
   },
   "outputs": [],
   "source": [
    "def bigsorting(a):\n",
    "    return [x for x in sorted(a, key = lambda s: (len(s), s))]\n"
   ]
  },
  {
   "cell_type": "code",
   "execution_count": 63,
   "metadata": {
    "ExecuteTime": {
     "end_time": "2022-02-06T15:23:44.000586Z",
     "start_time": "2022-02-06T15:23:43.996877Z"
    }
   },
   "outputs": [
    {
     "data": {
      "text/plain": [
       "['1', '3', '5', '150', '200']"
      ]
     },
     "execution_count": 63,
     "metadata": {},
     "output_type": "execute_result"
    }
   ],
   "source": [
    "bigsorting(a)"
   ]
  },
  {
   "cell_type": "code",
   "execution_count": 82,
   "metadata": {
    "ExecuteTime": {
     "end_time": "2022-02-06T19:36:17.730615Z",
     "start_time": "2022-02-06T19:36:17.728430Z"
    }
   },
   "outputs": [],
   "source": [
    "a=['1', '3', '150', '200','5']"
   ]
  },
  {
   "cell_type": "code",
   "execution_count": 35,
   "metadata": {
    "ExecuteTime": {
     "end_time": "2022-02-06T15:04:47.821531Z",
     "start_time": "2022-02-06T15:04:47.816296Z"
    }
   },
   "outputs": [
    {
     "data": {
      "text/plain": [
       "['1', '150', '200', '3', '5']"
      ]
     },
     "execution_count": 35,
     "metadata": {},
     "output_type": "execute_result"
    }
   ],
   "source": [
    "a=['1', '3', '150', '200','5']\n",
    "a.sort()\n",
    "a"
   ]
  },
  {
   "cell_type": "code",
   "execution_count": 51,
   "metadata": {
    "ExecuteTime": {
     "end_time": "2022-02-06T15:07:43.088039Z",
     "start_time": "2022-02-06T15:07:43.083332Z"
    }
   },
   "outputs": [
    {
     "data": {
      "text/plain": [
       "[1, 3, 5, 150, 200]"
      ]
     },
     "execution_count": 51,
     "metadata": {},
     "output_type": "execute_result"
    }
   ],
   "source": [
    "b=list(map(int,a))\n",
    "b.sort()\n",
    "b"
   ]
  },
  {
   "cell_type": "code",
   "execution_count": 52,
   "metadata": {
    "ExecuteTime": {
     "end_time": "2022-02-06T15:08:15.849245Z",
     "start_time": "2022-02-06T15:08:15.844601Z"
    }
   },
   "outputs": [
    {
     "data": {
      "text/plain": [
       "['1', '3', '5', '150', '200']"
      ]
     },
     "execution_count": 52,
     "metadata": {},
     "output_type": "execute_result"
    }
   ],
   "source": [
    "list(map(str,b))"
   ]
  },
  {
   "cell_type": "code",
   "execution_count": 37,
   "metadata": {
    "ExecuteTime": {
     "end_time": "2022-02-06T15:05:09.653854Z",
     "start_time": "2022-02-06T15:05:09.649899Z"
    }
   },
   "outputs": [
    {
     "data": {
      "text/plain": [
       "[1, 150, 200, 3, 5]"
      ]
     },
     "execution_count": 37,
     "metadata": {},
     "output_type": "execute_result"
    }
   ],
   "source": [
    "b=[int(el) for el in a]\n",
    "b"
   ]
  },
  {
   "cell_type": "code",
   "execution_count": 31,
   "metadata": {
    "ExecuteTime": {
     "end_time": "2022-02-06T15:01:48.127359Z",
     "start_time": "2022-02-06T15:01:48.121796Z"
    }
   },
   "outputs": [
    {
     "data": {
      "text/plain": [
       "['1', '3', '5', '150', '200']"
      ]
     },
     "execution_count": 31,
     "metadata": {},
     "output_type": "execute_result"
    }
   ],
   "source": [
    "b.sort()\n",
    "b\n",
    "[str(el) for el in b]"
   ]
  },
  {
   "cell_type": "code",
   "execution_count": 60,
   "metadata": {
    "ExecuteTime": {
     "end_time": "2022-02-06T15:23:27.898359Z",
     "start_time": "2022-02-06T15:23:27.894386Z"
    }
   },
   "outputs": [],
   "source": [
    "def bigsorting2(a):\n",
    "    b=[int(el) for el in a]\n",
    "    b.sort()\n",
    "    return [str(el) for el in b]"
   ]
  },
  {
   "cell_type": "code",
   "execution_count": 83,
   "metadata": {
    "ExecuteTime": {
     "end_time": "2022-02-06T19:36:23.517497Z",
     "start_time": "2022-02-06T19:36:23.513482Z"
    }
   },
   "outputs": [
    {
     "data": {
      "text/plain": [
       "['1', '3', '5', '150', '200']"
      ]
     },
     "execution_count": 83,
     "metadata": {},
     "output_type": "execute_result"
    }
   ],
   "source": [
    "[x for x in sorted(a, key = lambda s: (len(s), s))]"
   ]
  },
  {
   "cell_type": "code",
   "execution_count": 33,
   "metadata": {
    "ExecuteTime": {
     "end_time": "2022-02-06T15:03:09.202512Z",
     "start_time": "2022-02-06T15:03:09.198692Z"
    }
   },
   "outputs": [
    {
     "data": {
      "text/plain": [
       "['1', '3', '5', '150', '200']"
      ]
     },
     "execution_count": 33,
     "metadata": {},
     "output_type": "execute_result"
    }
   ],
   "source": [
    "bigsorting(a)"
   ]
  },
  {
   "cell_type": "code",
   "execution_count": 53,
   "metadata": {
    "ExecuteTime": {
     "end_time": "2022-02-06T15:11:45.716840Z",
     "start_time": "2022-02-06T15:11:45.712751Z"
    }
   },
   "outputs": [
    {
     "name": "stdout",
     "output_type": "stream",
     "text": [
      "1\n",
      "3\n",
      "5\n",
      "150\n",
      "200\n"
     ]
    }
   ],
   "source": [
    "for i in sorted([int(s) for s in a]):\n",
    "    print(i)"
   ]
  },
  {
   "cell_type": "code",
   "execution_count": 55,
   "metadata": {
    "ExecuteTime": {
     "end_time": "2022-02-06T15:13:53.204167Z",
     "start_time": "2022-02-06T15:13:53.199530Z"
    }
   },
   "outputs": [
    {
     "data": {
      "text/plain": [
       "['1', '3', '5', '150', '200']"
      ]
     },
     "execution_count": 55,
     "metadata": {},
     "output_type": "execute_result"
    }
   ],
   "source": [
    "[str(i) for i in sorted([int(s) for s in a])]"
   ]
  },
  {
   "cell_type": "markdown",
   "metadata": {},
   "source": [
    "# super reduced string"
   ]
  },
  {
   "cell_type": "markdown",
   "metadata": {},
   "source": [
    "[lien](https://www.hackerrank.com/challenges/reduced-string/problem?isFullScreen=true)"
   ]
  },
  {
   "cell_type": "code",
   "execution_count": 44,
   "metadata": {
    "ExecuteTime": {
     "end_time": "2022-02-06T16:37:58.944731Z",
     "start_time": "2022-02-06T16:37:58.930142Z"
    }
   },
   "outputs": [
    {
     "name": "stdout",
     "output_type": "stream",
     "text": [
      "i:0\n",
      "a a\n",
      "s:bba\n",
      "len(s):3\n",
      "i:1\n",
      "a b\n",
      "i:2\n"
     ]
    },
    {
     "ename": "IndexError",
     "evalue": "string index out of range",
     "output_type": "error",
     "traceback": [
      "\u001b[0;31m---------------------------------------------------------------------------\u001b[0m",
      "\u001b[0;31mIndexError\u001b[0m                                Traceback (most recent call last)",
      "\u001b[0;32m<ipython-input-44-01eb44842b98>\u001b[0m in \u001b[0;36m<module>\u001b[0;34m\u001b[0m\n\u001b[1;32m      5\u001b[0m     \u001b[0;32mfor\u001b[0m \u001b[0mi\u001b[0m \u001b[0;32min\u001b[0m \u001b[0mrange\u001b[0m\u001b[0;34m(\u001b[0m\u001b[0mn\u001b[0m\u001b[0;34m-\u001b[0m\u001b[0;36m2\u001b[0m\u001b[0;34m)\u001b[0m\u001b[0;34m:\u001b[0m\u001b[0;34m\u001b[0m\u001b[0;34m\u001b[0m\u001b[0m\n\u001b[1;32m      6\u001b[0m         \u001b[0mprint\u001b[0m\u001b[0;34m(\u001b[0m\u001b[0;34m'i:{}'\u001b[0m\u001b[0;34m.\u001b[0m\u001b[0mformat\u001b[0m\u001b[0;34m(\u001b[0m\u001b[0mi\u001b[0m\u001b[0;34m)\u001b[0m\u001b[0;34m)\u001b[0m\u001b[0;34m\u001b[0m\u001b[0;34m\u001b[0m\u001b[0m\n\u001b[0;32m----> 7\u001b[0;31m         \u001b[0mprint\u001b[0m\u001b[0;34m(\u001b[0m\u001b[0ms\u001b[0m\u001b[0;34m[\u001b[0m\u001b[0mi\u001b[0m\u001b[0;34m+\u001b[0m\u001b[0;36m1\u001b[0m\u001b[0;34m]\u001b[0m\u001b[0;34m,\u001b[0m\u001b[0ms\u001b[0m\u001b[0;34m[\u001b[0m\u001b[0mi\u001b[0m\u001b[0;34m]\u001b[0m\u001b[0;34m)\u001b[0m\u001b[0;34m\u001b[0m\u001b[0;34m\u001b[0m\u001b[0m\n\u001b[0m\u001b[1;32m      8\u001b[0m         \u001b[0;32mif\u001b[0m \u001b[0ms\u001b[0m\u001b[0;34m[\u001b[0m\u001b[0mi\u001b[0m\u001b[0;34m+\u001b[0m\u001b[0;36m1\u001b[0m\u001b[0;34m]\u001b[0m\u001b[0;34m==\u001b[0m\u001b[0ms\u001b[0m\u001b[0;34m[\u001b[0m\u001b[0mi\u001b[0m\u001b[0;34m]\u001b[0m\u001b[0;34m:\u001b[0m\u001b[0;34m\u001b[0m\u001b[0;34m\u001b[0m\u001b[0m\n\u001b[1;32m      9\u001b[0m             \u001b[0ms\u001b[0m\u001b[0;34m=\u001b[0m\u001b[0ms\u001b[0m\u001b[0;34m[\u001b[0m\u001b[0;34m:\u001b[0m\u001b[0mi\u001b[0m\u001b[0;34m]\u001b[0m\u001b[0;34m+\u001b[0m\u001b[0ms\u001b[0m\u001b[0;34m[\u001b[0m\u001b[0mi\u001b[0m\u001b[0;34m+\u001b[0m\u001b[0;36m2\u001b[0m\u001b[0;34m:\u001b[0m\u001b[0;34m]\u001b[0m\u001b[0;34m\u001b[0m\u001b[0;34m\u001b[0m\u001b[0m\n",
      "\u001b[0;31mIndexError\u001b[0m: string index out of range"
     ]
    }
   ],
   "source": [
    "s='aabba'\n",
    "n=len(s)\n",
    "i=0\n",
    "while s!='':\n",
    "    for i in range(n-2):\n",
    "        print('i:{}'.format(i))\n",
    "        print(s[i+1],s[i])\n",
    "        if s[i+1]==s[i]:\n",
    "            s=s[:i]+s[i+2:]\n",
    "            n=len(s)\n",
    "            print('s:{}'.format(s))\n",
    "            print('len(s):{}'.format(len(s)))\n",
    "s"
   ]
  },
  {
   "cell_type": "code",
   "execution_count": 114,
   "metadata": {
    "ExecuteTime": {
     "end_time": "2022-02-06T16:15:03.104786Z",
     "start_time": "2022-02-06T16:15:03.099933Z"
    }
   },
   "outputs": [
    {
     "data": {
      "text/plain": [
       "'aa'"
      ]
     },
     "execution_count": 114,
     "metadata": {},
     "output_type": "execute_result"
    }
   ],
   "source": [
    "s.replace('b','')"
   ]
  },
  {
   "cell_type": "code",
   "execution_count": null,
   "metadata": {},
   "outputs": [],
   "source": [
    "def superReducedString(S):\n",
    "    LS = list(S)\n",
    "    i = 0 \n",
    "    while i < len(LS)-1:\n",
    "        if LS[i]==LS[i+1]:\n",
    "            del LS[i]\n",
    "            del LS[i]\n",
    "            i = 0\n",
    "            if len(LS) == 0:\n",
    "                return 'Empty String'\n",
    "                break\n",
    "        else:\n",
    "            i+=1\n",
    "    return ''.join(LS)"
   ]
  },
  {
   "cell_type": "code",
   "execution_count": null,
   "metadata": {},
   "outputs": [],
   "source": []
  },
  {
   "cell_type": "markdown",
   "metadata": {},
   "source": [
    "# caesar cipher"
   ]
  },
  {
   "cell_type": "markdown",
   "metadata": {},
   "source": [
    "[lien](https://www.hackerrank.com/challenges/caesar-cipher-1/problem?isFullScreen=true)"
   ]
  },
  {
   "cell_type": "code",
   "execution_count": 95,
   "metadata": {
    "ExecuteTime": {
     "end_time": "2022-02-06T15:44:04.841630Z",
     "start_time": "2022-02-06T15:44:04.835926Z"
    }
   },
   "outputs": [
    {
     "data": {
      "text/plain": [
       "25"
      ]
     },
     "execution_count": 95,
     "metadata": {},
     "output_type": "execute_result"
    }
   ],
   "source": [
    "original='abcdefghijklmnopqrstuvwxyz'\n",
    "k=2%26\n",
    "original.index('z')"
   ]
  },
  {
   "cell_type": "code",
   "execution_count": 104,
   "metadata": {
    "ExecuteTime": {
     "end_time": "2022-02-06T15:48:34.960888Z",
     "start_time": "2022-02-06T15:48:34.956690Z"
    }
   },
   "outputs": [
    {
     "data": {
      "text/plain": [
       "'abcdefghijklmnopqrstuvwxyz'"
      ]
     },
     "execution_count": 104,
     "metadata": {},
     "output_type": "execute_result"
    }
   ],
   "source": [
    "original.upper()\n",
    "original.lower()"
   ]
  },
  {
   "cell_type": "code",
   "execution_count": 101,
   "metadata": {
    "ExecuteTime": {
     "end_time": "2022-02-06T15:47:17.702849Z",
     "start_time": "2022-02-06T15:47:17.697960Z"
    }
   },
   "outputs": [
    {
     "data": {
      "text/plain": [
       "'cdefghijklmnopqrstuvwxyzab'"
      ]
     },
     "execution_count": 101,
     "metadata": {},
     "output_type": "execute_result"
    }
   ],
   "source": [
    "rotated=original[k:]+original[:k]\n",
    "rotated"
   ]
  },
  {
   "cell_type": "code",
   "execution_count": 106,
   "metadata": {
    "ExecuteTime": {
     "end_time": "2022-02-06T15:49:57.594278Z",
     "start_time": "2022-02-06T15:49:57.587881Z"
    }
   },
   "outputs": [
    {
     "data": {
      "text/plain": [
       "'okffng-Qwvb'"
      ]
     },
     "execution_count": 106,
     "metadata": {},
     "output_type": "execute_result"
    }
   ],
   "source": [
    "u='middle-Outz'\n",
    "v=''\n",
    "for el in u:\n",
    "    if el in original.upper():\n",
    "        v+=rotated.upper()[original.upper().index(el)]\n",
    "    elif el in original:\n",
    "        v+=rotated[original.index(el)]\n",
    "    else:\n",
    "        v+=el\n",
    "v"
   ]
  },
  {
   "cell_type": "code",
   "execution_count": 92,
   "metadata": {
    "ExecuteTime": {
     "end_time": "2022-02-06T15:40:42.517974Z",
     "start_time": "2022-02-06T15:40:42.511682Z"
    }
   },
   "outputs": [
    {
     "data": {
      "text/plain": [
       "'okffngwv|'"
      ]
     },
     "execution_count": 92,
     "metadata": {},
     "output_type": "execute_result"
    }
   ],
   "source": [
    "u='middle-Outz'\n",
    "v=''\n",
    "# for el in u:\n",
    "#     v+=chr(ord(el)+k)\n",
    "''.join([chr(ord(el)+k) for el in u if el in original])\n"
   ]
  },
  {
   "cell_type": "code",
   "execution_count": 107,
   "metadata": {
    "ExecuteTime": {
     "end_time": "2022-02-06T15:53:03.667541Z",
     "start_time": "2022-02-06T15:53:03.662533Z"
    }
   },
   "outputs": [],
   "source": [
    "def cipher(s,k):\n",
    "    original='abcdefghijklmnopqrstuvwxyz'\n",
    "    k%=26\n",
    "    rotated=original[k:]+original[:k]\n",
    "    v=''\n",
    "    for el in u:\n",
    "        if el in original.upper():\n",
    "            v+=rotated.upper()[original.upper().index(el)]\n",
    "        elif el in original:\n",
    "            v+=rotated[original.index(el)]\n",
    "        else:\n",
    "            v+=el\n",
    "    return v"
   ]
  },
  {
   "cell_type": "markdown",
   "metadata": {},
   "source": [
    "# hackerrank in a string"
   ]
  },
  {
   "cell_type": "markdown",
   "metadata": {},
   "source": [
    "[lien](https://www.hackerrank.com/challenges/hackerrank-in-a-string/problem?isFullScreen=true)"
   ]
  },
  {
   "cell_type": "code",
   "execution_count": 72,
   "metadata": {
    "ExecuteTime": {
     "end_time": "2022-02-06T17:04:45.485752Z",
     "start_time": "2022-02-06T17:04:45.481930Z"
    }
   },
   "outputs": [],
   "source": [
    "def hackerrankInString(s):\n",
    "    hack='hackerrank'\n",
    "    for el in hack:\n",
    "        if el not in l:\n",
    "            return 'NO'\n",
    "        if el in l:\n",
    "            del l[l.index(el)]\n",
    "    \n",
    "    return 'YES'"
   ]
  },
  {
   "cell_type": "code",
   "execution_count": 76,
   "metadata": {
    "ExecuteTime": {
     "end_time": "2022-02-06T17:07:49.411572Z",
     "start_time": "2022-02-06T17:07:49.407535Z"
    }
   },
   "outputs": [
    {
     "data": {
      "text/plain": [
       "'YES'"
      ]
     },
     "execution_count": 76,
     "metadata": {},
     "output_type": "execute_result"
    }
   ],
   "source": [
    "hackerrankInString(s)"
   ]
  },
  {
   "cell_type": "code",
   "execution_count": 77,
   "metadata": {
    "ExecuteTime": {
     "end_time": "2022-02-06T17:07:56.780629Z",
     "start_time": "2022-02-06T17:07:56.777462Z"
    }
   },
   "outputs": [],
   "source": [
    "s='hcaerkeriiranbk'"
   ]
  },
  {
   "cell_type": "code",
   "execution_count": 78,
   "metadata": {
    "ExecuteTime": {
     "end_time": "2022-02-06T17:07:57.699100Z",
     "start_time": "2022-02-06T17:07:57.696502Z"
    }
   },
   "outputs": [],
   "source": [
    "hack='hackerrank'"
   ]
  },
  {
   "cell_type": "code",
   "execution_count": 79,
   "metadata": {
    "ExecuteTime": {
     "end_time": "2022-02-06T17:07:58.774951Z",
     "start_time": "2022-02-06T17:07:58.770534Z"
    }
   },
   "outputs": [
    {
     "data": {
      "text/plain": [
       "['h', 'c', 'a', 'e', 'r', 'k', 'e', 'r', 'i', 'i', 'r', 'a', 'n', 'b', 'k']"
      ]
     },
     "execution_count": 79,
     "metadata": {},
     "output_type": "execute_result"
    }
   ],
   "source": [
    "l=list(s)\n",
    "l"
   ]
  },
  {
   "cell_type": "code",
   "execution_count": 80,
   "metadata": {
    "ExecuteTime": {
     "end_time": "2022-02-06T17:08:06.568392Z",
     "start_time": "2022-02-06T17:08:06.562495Z"
    }
   },
   "outputs": [
    {
     "ename": "SyntaxError",
     "evalue": "'return' outside function (<ipython-input-80-079c5bf8a5e6>, line 3)",
     "output_type": "error",
     "traceback": [
      "\u001b[0;36m  File \u001b[0;32m\"<ipython-input-80-079c5bf8a5e6>\"\u001b[0;36m, line \u001b[0;32m3\u001b[0m\n\u001b[0;31m    return 'NO'\u001b[0m\n\u001b[0m    ^\u001b[0m\n\u001b[0;31mSyntaxError\u001b[0m\u001b[0;31m:\u001b[0m 'return' outside function\n"
     ]
    }
   ],
   "source": [
    "for el in hack:\n",
    "    if el not in l:\n",
    "        return 'NO'\n",
    "    if el in l:\n",
    "        del l[l.index(el)]\n",
    "        if  "
   ]
  },
  {
   "cell_type": "code",
   "execution_count": 65,
   "metadata": {
    "ExecuteTime": {
     "end_time": "2022-02-06T17:01:37.972815Z",
     "start_time": "2022-02-06T17:01:37.968607Z"
    }
   },
   "outputs": [
    {
     "data": {
      "text/plain": [
       "['e', 'i', 'i', 'i', 'r']"
      ]
     },
     "execution_count": 65,
     "metadata": {},
     "output_type": "execute_result"
    }
   ],
   "source": [
    "l"
   ]
  },
  {
   "cell_type": "code",
   "execution_count": 81,
   "metadata": {
    "ExecuteTime": {
     "end_time": "2022-02-06T17:40:03.187640Z",
     "start_time": "2022-02-06T17:40:03.182967Z"
    }
   },
   "outputs": [],
   "source": [
    "def hackerrankInString(s):\n",
    "    a=\"hackerrank\"\n",
    "    c=0\n",
    "    for i in s:\n",
    "        if i==a[c]:\n",
    "            c+=1\n",
    "        if c>=10:\n",
    "            break\n",
    "    if c==10:\n",
    "        return \"YES\"\n",
    "    else:\n",
    "        return \"NO\""
   ]
  },
  {
   "cell_type": "markdown",
   "metadata": {},
   "source": [
    "# missing numbers"
   ]
  },
  {
   "cell_type": "markdown",
   "metadata": {},
   "source": [
    "[lien](https://www.hackerrank.com/challenges/missing-numbers/problem?isFullScreen=true)"
   ]
  },
  {
   "cell_type": "code",
   "execution_count": null,
   "metadata": {},
   "outputs": [],
   "source": []
  },
  {
   "cell_type": "code",
   "execution_count": null,
   "metadata": {},
   "outputs": [],
   "source": []
  },
  {
   "cell_type": "code",
   "execution_count": null,
   "metadata": {},
   "outputs": [],
   "source": []
  },
  {
   "cell_type": "markdown",
   "metadata": {},
   "source": [
    "# sherlock and the valid string"
   ]
  },
  {
   "cell_type": "markdown",
   "metadata": {},
   "source": [
    "[lien](https://www.hackerrank.com/challenges/sherlock-and-valid-string/problem?isFullScreen=true&h_l=interview&playlist_slugs%5B%5D=interview-preparation-kit&playlist_slugs%5B%5D=strings)"
   ]
  },
  {
   "cell_type": "code",
   "execution_count": null,
   "metadata": {},
   "outputs": [],
   "source": []
  },
  {
   "cell_type": "code",
   "execution_count": null,
   "metadata": {},
   "outputs": [],
   "source": []
  },
  {
   "cell_type": "code",
   "execution_count": null,
   "metadata": {},
   "outputs": [],
   "source": []
  },
  {
   "cell_type": "markdown",
   "metadata": {},
   "source": [
    "# special string again"
   ]
  },
  {
   "cell_type": "markdown",
   "metadata": {},
   "source": [
    "[lien](https://www.hackerrank.com/challenges/special-palindrome-again/problem?h_l=interview&isFullScreen=true&playlist_slugs%5B%5D%5B%5D=interview-preparation-kit&playlist_slugs%5B%5D%5B%5D=strings)"
   ]
  },
  {
   "cell_type": "code",
   "execution_count": null,
   "metadata": {},
   "outputs": [],
   "source": []
  },
  {
   "cell_type": "code",
   "execution_count": null,
   "metadata": {},
   "outputs": [],
   "source": []
  },
  {
   "cell_type": "code",
   "execution_count": null,
   "metadata": {},
   "outputs": [],
   "source": []
  },
  {
   "cell_type": "code",
   "execution_count": null,
   "metadata": {},
   "outputs": [],
   "source": []
  },
  {
   "cell_type": "markdown",
   "metadata": {},
   "source": [
    "# merge the tools"
   ]
  },
  {
   "cell_type": "markdown",
   "metadata": {},
   "source": [
    "[lien](https://www.hackerrank.com/challenges/merge-the-tools/problem?isFullScreen=true)"
   ]
  },
  {
   "cell_type": "code",
   "execution_count": null,
   "metadata": {},
   "outputs": [],
   "source": []
  },
  {
   "cell_type": "code",
   "execution_count": null,
   "metadata": {},
   "outputs": [],
   "source": []
  },
  {
   "cell_type": "code",
   "execution_count": null,
   "metadata": {},
   "outputs": [],
   "source": []
  },
  {
   "cell_type": "code",
   "execution_count": null,
   "metadata": {},
   "outputs": [],
   "source": []
  },
  {
   "cell_type": "markdown",
   "metadata": {},
   "source": [
    "# sherlock and anagrams"
   ]
  },
  {
   "cell_type": "markdown",
   "metadata": {},
   "source": [
    "[lien](https://www.hackerrank.com/challenges/sherlock-and-anagrams/problem?isFullScreen=true)"
   ]
  },
  {
   "cell_type": "code",
   "execution_count": null,
   "metadata": {},
   "outputs": [],
   "source": []
  }
 ],
 "metadata": {
  "kernelspec": {
   "display_name": "Python 3",
   "language": "python",
   "name": "python3"
  },
  "language_info": {
   "codemirror_mode": {
    "name": "ipython",
    "version": 3
   },
   "file_extension": ".py",
   "mimetype": "text/x-python",
   "name": "python",
   "nbconvert_exporter": "python",
   "pygments_lexer": "ipython3",
   "version": "3.7.6"
  },
  "toc": {
   "base_numbering": 1,
   "nav_menu": {},
   "number_sections": true,
   "sideBar": true,
   "skip_h1_title": false,
   "title_cell": "Table of Contents",
   "title_sidebar": "Contents",
   "toc_cell": true,
   "toc_position": {
    "height": "135.693px",
    "left": "10px",
    "top": "150px",
    "width": "165px"
   },
   "toc_section_display": true,
   "toc_window_display": true
  }
 },
 "nbformat": 4,
 "nbformat_minor": 4
}
