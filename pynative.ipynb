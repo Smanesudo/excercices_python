{
 "cells": [
  {
   "cell_type": "markdown",
   "metadata": {
    "toc": true
   },
   "source": [
    "<h1>Table of Contents<span class=\"tocSkip\"></span></h1>\n",
    "<div class=\"toc\"><ul class=\"toc-item\"><li><span><a href=\"#basic-exercices\" data-toc-modified-id=\"basic-exercices-1\"><span class=\"toc-item-num\">1&nbsp;&nbsp;</span>basic exercices</a></span><ul class=\"toc-item\"><li><span><a href=\"#exercice-1\" data-toc-modified-id=\"exercice-1-1.1\"><span class=\"toc-item-num\">1.1&nbsp;&nbsp;</span>exercice 1</a></span></li><li><span><a href=\"#question-2\" data-toc-modified-id=\"question-2-1.2\"><span class=\"toc-item-num\">1.2&nbsp;&nbsp;</span>question 2</a></span></li><li><span><a href=\"#question-3\" data-toc-modified-id=\"question-3-1.3\"><span class=\"toc-item-num\">1.3&nbsp;&nbsp;</span>question 3</a></span></li><li><span><a href=\"#question-4\" data-toc-modified-id=\"question-4-1.4\"><span class=\"toc-item-num\">1.4&nbsp;&nbsp;</span>question 4</a></span></li><li><span><a href=\"#question-5\" data-toc-modified-id=\"question-5-1.5\"><span class=\"toc-item-num\">1.5&nbsp;&nbsp;</span>question 5</a></span></li><li><span><a href=\"#question-6\" data-toc-modified-id=\"question-6-1.6\"><span class=\"toc-item-num\">1.6&nbsp;&nbsp;</span>question 6</a></span></li><li><span><a href=\"#question-7\" data-toc-modified-id=\"question-7-1.7\"><span class=\"toc-item-num\">1.7&nbsp;&nbsp;</span>question 7</a></span></li><li><span><a href=\"#question-8\" data-toc-modified-id=\"question-8-1.8\"><span class=\"toc-item-num\">1.8&nbsp;&nbsp;</span>question 8</a></span></li><li><span><a href=\"#question-9\" data-toc-modified-id=\"question-9-1.9\"><span class=\"toc-item-num\">1.9&nbsp;&nbsp;</span>question 9</a></span></li><li><span><a href=\"#question-10\" data-toc-modified-id=\"question-10-1.10\"><span class=\"toc-item-num\">1.10&nbsp;&nbsp;</span>question 10</a></span></li><li><span><a href=\"#question-11\" data-toc-modified-id=\"question-11-1.11\"><span class=\"toc-item-num\">1.11&nbsp;&nbsp;</span>question 11</a></span></li><li><span><a href=\"#question-13\" data-toc-modified-id=\"question-13-1.12\"><span class=\"toc-item-num\">1.12&nbsp;&nbsp;</span>question 13</a></span></li><li><span><a href=\"#question-14\" data-toc-modified-id=\"question-14-1.13\"><span class=\"toc-item-num\">1.13&nbsp;&nbsp;</span>question 14</a></span></li><li><span><a href=\"#question-15\" data-toc-modified-id=\"question-15-1.14\"><span class=\"toc-item-num\">1.14&nbsp;&nbsp;</span>question 15</a></span></li></ul></li><li><span><a href=\"#loop-exercices\" data-toc-modified-id=\"loop-exercices-2\"><span class=\"toc-item-num\">2&nbsp;&nbsp;</span>loop exercices</a></span><ul class=\"toc-item\"><li><span><a href=\"#question-1\" data-toc-modified-id=\"question-1-2.1\"><span class=\"toc-item-num\">2.1&nbsp;&nbsp;</span>question 1</a></span></li><li><span><a href=\"#question-3\" data-toc-modified-id=\"question-3-2.2\"><span class=\"toc-item-num\">2.2&nbsp;&nbsp;</span>question 3</a></span></li><li><span><a href=\"#question-6\" data-toc-modified-id=\"question-6-2.3\"><span class=\"toc-item-num\">2.3&nbsp;&nbsp;</span>question 6</a></span></li><li><span><a href=\"#question-11\" data-toc-modified-id=\"question-11-2.4\"><span class=\"toc-item-num\">2.4&nbsp;&nbsp;</span>question 11</a></span></li><li><span><a href=\"#question-12\" data-toc-modified-id=\"question-12-2.5\"><span class=\"toc-item-num\">2.5&nbsp;&nbsp;</span>question 12</a></span></li></ul></li><li><span><a href=\"#functions\" data-toc-modified-id=\"functions-3\"><span class=\"toc-item-num\">3&nbsp;&nbsp;</span>functions</a></span><ul class=\"toc-item\"><li><span><a href=\"#question-2\" data-toc-modified-id=\"question-2-3.1\"><span class=\"toc-item-num\">3.1&nbsp;&nbsp;</span>question 2</a></span></li><li><span><a href=\"#question-6\" data-toc-modified-id=\"question-6-3.2\"><span class=\"toc-item-num\">3.2&nbsp;&nbsp;</span>question 6</a></span></li></ul></li><li><span><a href=\"#dictionaries\" data-toc-modified-id=\"dictionaries-4\"><span class=\"toc-item-num\">4&nbsp;&nbsp;</span>dictionaries</a></span><ul class=\"toc-item\"><li><span><a href=\"#question-1\" data-toc-modified-id=\"question-1-4.1\"><span class=\"toc-item-num\">4.1&nbsp;&nbsp;</span>question 1</a></span></li><li><span><a href=\"#question-2\" data-toc-modified-id=\"question-2-4.2\"><span class=\"toc-item-num\">4.2&nbsp;&nbsp;</span>question 2</a></span></li><li><span><a href=\"#question-4\" data-toc-modified-id=\"question-4-4.3\"><span class=\"toc-item-num\">4.3&nbsp;&nbsp;</span>question 4</a></span></li><li><span><a href=\"#question-9\" data-toc-modified-id=\"question-9-4.4\"><span class=\"toc-item-num\">4.4&nbsp;&nbsp;</span>question 9</a></span></li></ul></li></ul></div>"
   ]
  },
  {
   "cell_type": "markdown",
   "metadata": {},
   "source": [
    "[lien vers les exercices](https://pynative.com/python-basic-exercise-for-beginners/)"
   ]
  },
  {
   "cell_type": "markdown",
   "metadata": {},
   "source": [
    "# basic exercices"
   ]
  },
  {
   "cell_type": "markdown",
   "metadata": {},
   "source": [
    "## exercice 1"
   ]
  },
  {
   "cell_type": "markdown",
   "metadata": {
    "ExecuteTime": {
     "end_time": "2020-11-03T17:48:52.713741Z",
     "start_time": "2020-11-03T17:48:52.709018Z"
    }
   },
   "source": [
    "Given a two integer numbers return their product and  if the product is greater than 1000, then return their sum\n",
    "\n"
   ]
  },
  {
   "cell_type": "code",
   "execution_count": 6,
   "metadata": {
    "ExecuteTime": {
     "end_time": "2020-11-03T17:51:40.467316Z",
     "start_time": "2020-11-03T17:51:40.460258Z"
    },
    "scrolled": false
   },
   "outputs": [
    {
     "name": "stdout",
     "output_type": "stream",
     "text": [
      "\n",
      "\n",
      "The result is 600\n"
     ]
    }
   ],
   "source": [
    "def multiplication_or_sum(num1, num2):\n",
    "    product = num1 * num2\n",
    "    if product <= 1000:\n",
    "        return product\n",
    "    else:\n",
    "        return num1 + num2\n",
    "\n",
    "number1 = 20\n",
    "number2 = 30\n",
    "\n",
    "print(\"\\n\")\n",
    "result = multiplication_or_sum(number1, number2)\n",
    "print(\"The result is\", result)"
   ]
  },
  {
   "cell_type": "markdown",
   "metadata": {
    "ExecuteTime": {
     "end_time": "2020-11-03T17:56:29.496863Z",
     "start_time": "2020-11-03T17:56:29.493856Z"
    }
   },
   "source": [
    "## question 2"
   ]
  },
  {
   "cell_type": "markdown",
   "metadata": {},
   "source": [
    " Given a range of first 10 numbers, Iterate from start number to the end number and print the sum of the current number and previous number"
   ]
  },
  {
   "cell_type": "code",
   "execution_count": 10,
   "metadata": {
    "ExecuteTime": {
     "end_time": "2020-11-03T17:55:39.035422Z",
     "start_time": "2020-11-03T17:55:39.028860Z"
    }
   },
   "outputs": [
    {
     "name": "stdout",
     "output_type": "stream",
     "text": [
      "Printing current and previous number sum in a given range(10)\n",
      "Current Number 0 Previous Number 0 Sum: 0\n",
      "Current Number 1 Previous Number 0 Sum: 1\n",
      "Current Number 2 Previous Number 1 Sum: 3\n",
      "Current Number 3 Previous Number 2 Sum: 5\n",
      "Current Number 4 Previous Number 3 Sum: 7\n",
      "Current Number 5 Previous Number 4 Sum: 9\n",
      "Current Number 6 Previous Number 5 Sum: 11\n",
      "Current Number 7 Previous Number 6 Sum: 13\n",
      "Current Number 8 Previous Number 7 Sum: 15\n",
      "Current Number 9 Previous Number 8 Sum: 17\n"
     ]
    }
   ],
   "source": [
    "print('Printing current and previous number sum in a given range(10)')\n",
    "print('Current Number {} Previous Number {} Sum: {}'.format(0,0,0))\n",
    "for i in range(1,10):\n",
    "    print('Current Number {} Previous Number {} Sum: {}'.format(i,i-1,i+i-1))\n",
    "   "
   ]
  },
  {
   "cell_type": "code",
   "execution_count": 12,
   "metadata": {
    "ExecuteTime": {
     "end_time": "2020-11-03T17:57:01.162328Z",
     "start_time": "2020-11-03T17:57:01.154482Z"
    }
   },
   "outputs": [
    {
     "name": "stdout",
     "output_type": "stream",
     "text": [
      "Printing current and previous number sum in a given range(10)\n",
      "Current Number 0 Previous Number  0  Sum:  0\n",
      "Current Number 1 Previous Number  0  Sum:  1\n",
      "Current Number 2 Previous Number  1  Sum:  3\n",
      "Current Number 3 Previous Number  2  Sum:  5\n",
      "Current Number 4 Previous Number  3  Sum:  7\n",
      "Current Number 5 Previous Number  4  Sum:  9\n",
      "Current Number 6 Previous Number  5  Sum:  11\n",
      "Current Number 7 Previous Number  6  Sum:  13\n",
      "Current Number 8 Previous Number  7  Sum:  15\n",
      "Current Number 9 Previous Number  8  Sum:  17\n"
     ]
    }
   ],
   "source": [
    "def sumNum(num):\n",
    "    previousNum = 0\n",
    "    for i in range(num):\n",
    "        sum = previousNum + i\n",
    "        print(\"Current Number\", i, \"Previous Number \", previousNum,\" Sum: \", sum)\n",
    "        previousNum = i\n",
    "\n",
    "print(\"Printing current and previous number sum in a given range(10)\")\n",
    "sumNum(10)"
   ]
  },
  {
   "cell_type": "markdown",
   "metadata": {
    "ExecuteTime": {
     "end_time": "2020-11-03T17:59:30.012045Z",
     "start_time": "2020-11-03T17:59:30.008737Z"
    }
   },
   "source": [
    "## question 3"
   ]
  },
  {
   "cell_type": "markdown",
   "metadata": {},
   "source": [
    "Given a string, display only those characters which are present at an even index number."
   ]
  },
  {
   "cell_type": "code",
   "execution_count": 27,
   "metadata": {
    "ExecuteTime": {
     "end_time": "2020-11-03T18:02:17.549182Z",
     "start_time": "2020-11-03T18:02:17.544879Z"
    }
   },
   "outputs": [],
   "source": [
    "def string_even(s):\n",
    "    for i in range(0,len(s),2):\n",
    "        print(s[i])\n",
    "    return s"
   ]
  },
  {
   "cell_type": "code",
   "execution_count": 28,
   "metadata": {
    "ExecuteTime": {
     "end_time": "2020-11-03T18:02:18.193743Z",
     "start_time": "2020-11-03T18:02:18.187751Z"
    }
   },
   "outputs": [
    {
     "name": "stdout",
     "output_type": "stream",
     "text": [
      "p\n",
      "n\n",
      "t\n",
      "v\n"
     ]
    },
    {
     "data": {
      "text/plain": [
       "'pynative'"
      ]
     },
     "execution_count": 28,
     "metadata": {},
     "output_type": "execute_result"
    }
   ],
   "source": [
    "string_even('pynative')"
   ]
  },
  {
   "cell_type": "markdown",
   "metadata": {},
   "source": [
    "## question 4 "
   ]
  },
  {
   "cell_type": "markdown",
   "metadata": {},
   "source": [
    "Given a string and an integer number n, remove characters from a string starting from zero up to n and return a new string\n"
   ]
  },
  {
   "cell_type": "code",
   "execution_count": 31,
   "metadata": {
    "ExecuteTime": {
     "end_time": "2020-11-03T18:06:19.990915Z",
     "start_time": "2020-11-03T18:06:19.986864Z"
    }
   },
   "outputs": [],
   "source": [
    "def removechar(s,n):\n",
    "    return s[n:]"
   ]
  },
  {
   "cell_type": "code",
   "execution_count": 32,
   "metadata": {
    "ExecuteTime": {
     "end_time": "2020-11-03T18:06:37.686716Z",
     "start_time": "2020-11-03T18:06:37.681328Z"
    }
   },
   "outputs": [
    {
     "data": {
      "text/plain": [
       "'ative'"
      ]
     },
     "execution_count": 32,
     "metadata": {},
     "output_type": "execute_result"
    }
   ],
   "source": [
    "removechar('pynative',3)"
   ]
  },
  {
   "cell_type": "markdown",
   "metadata": {},
   "source": [
    "## question 5"
   ]
  },
  {
   "cell_type": "markdown",
   "metadata": {},
   "source": [
    "Given a list of numbers, return True if first and last number of a list is same"
   ]
  },
  {
   "cell_type": "code",
   "execution_count": 33,
   "metadata": {
    "ExecuteTime": {
     "end_time": "2020-11-03T18:07:56.567738Z",
     "start_time": "2020-11-03T18:07:56.563956Z"
    }
   },
   "outputs": [],
   "source": [
    "def first_and_last(l):\n",
    "    return l[0]==l[-1]"
   ]
  },
  {
   "cell_type": "code",
   "execution_count": 35,
   "metadata": {
    "ExecuteTime": {
     "end_time": "2020-11-03T18:08:08.740736Z",
     "start_time": "2020-11-03T18:08:08.734953Z"
    }
   },
   "outputs": [
    {
     "data": {
      "text/plain": [
       "False"
      ]
     },
     "execution_count": 35,
     "metadata": {},
     "output_type": "execute_result"
    }
   ],
   "source": [
    "first_and_last([1,2,3,4,0])"
   ]
  },
  {
   "cell_type": "markdown",
   "metadata": {},
   "source": [
    "## question 6 "
   ]
  },
  {
   "cell_type": "markdown",
   "metadata": {},
   "source": [
    "Given a list of numbers, Iterate it and print only those numbers which are divisible of 5"
   ]
  },
  {
   "cell_type": "code",
   "execution_count": 38,
   "metadata": {
    "ExecuteTime": {
     "end_time": "2020-11-03T18:10:15.334104Z",
     "start_time": "2020-11-03T18:10:15.329534Z"
    }
   },
   "outputs": [],
   "source": [
    "def div_by_five(l):\n",
    "    for num in l:\n",
    "        if num%5==0:\n",
    "            print(num)"
   ]
  },
  {
   "cell_type": "code",
   "execution_count": 39,
   "metadata": {
    "ExecuteTime": {
     "end_time": "2020-11-03T18:10:15.724113Z",
     "start_time": "2020-11-03T18:10:15.719819Z"
    }
   },
   "outputs": [
    {
     "name": "stdout",
     "output_type": "stream",
     "text": [
      "10\n",
      "20\n",
      "55\n"
     ]
    }
   ],
   "source": [
    "div_by_five([10,20,33,46,55])"
   ]
  },
  {
   "cell_type": "markdown",
   "metadata": {
    "code_folding": []
   },
   "source": [
    "## question 7"
   ]
  },
  {
   "cell_type": "markdown",
   "metadata": {},
   "source": [
    "Return the total count of sub-string “Emma” appears in the given string"
   ]
  },
  {
   "cell_type": "code",
   "execution_count": 46,
   "metadata": {
    "ExecuteTime": {
     "end_time": "2020-11-03T18:16:32.125225Z",
     "start_time": "2020-11-03T18:16:32.120258Z"
    }
   },
   "outputs": [],
   "source": [
    "def string_count(s):\n",
    "    l=s.split(' ')\n",
    "    print(l)\n",
    "    count=0\n",
    "    for el in l:\n",
    "        if el=='Emma':\n",
    "            count+=1\n",
    "    return count"
   ]
  },
  {
   "cell_type": "code",
   "execution_count": 47,
   "metadata": {
    "ExecuteTime": {
     "end_time": "2020-11-03T18:16:32.768212Z",
     "start_time": "2020-11-03T18:16:32.762336Z"
    }
   },
   "outputs": [
    {
     "name": "stdout",
     "output_type": "stream",
     "text": [
      "['Emma', 'is', 'a', 'good', 'developer.', 'Emma', 'is', 'a', 'writer']\n"
     ]
    },
    {
     "data": {
      "text/plain": [
       "2"
      ]
     },
     "execution_count": 47,
     "metadata": {},
     "output_type": "execute_result"
    }
   ],
   "source": [
    "string_count(\"Emma is a good developer. Emma is a writer\")"
   ]
  },
  {
   "cell_type": "code",
   "execution_count": 48,
   "metadata": {
    "ExecuteTime": {
     "end_time": "2020-11-03T18:16:56.163590Z",
     "start_time": "2020-11-03T18:16:56.159236Z"
    }
   },
   "outputs": [
    {
     "name": "stdout",
     "output_type": "stream",
     "text": [
      "2\n"
     ]
    }
   ],
   "source": [
    "sampleStr = \"Emma is good developer. Emma is a writer\"\n",
    "cnt = sampleStr.count(\"Emma\")\n",
    "print(cnt)"
   ]
  },
  {
   "cell_type": "code",
   "execution_count": 50,
   "metadata": {
    "ExecuteTime": {
     "end_time": "2020-11-03T18:18:06.568256Z",
     "start_time": "2020-11-03T18:18:06.561766Z"
    }
   },
   "outputs": [
    {
     "name": "stdout",
     "output_type": "stream",
     "text": [
      "Given String:  Emma is good developer. Emma is a writer\n",
      "Emma appeared  2 times\n"
     ]
    }
   ],
   "source": [
    "def count_emma(statement):\n",
    "    print(\"Given String: \", statement)\n",
    "    count = 0\n",
    "    for i in range(len(statement) - 1):\n",
    "        count += statement[i: i + 4] == 'Emma'\n",
    "    return count\n",
    "\n",
    "count = count_emma(\"Emma is good developer. Emma is a writer\")\n",
    "print(\"Emma appeared \", count, \"times\")"
   ]
  },
  {
   "cell_type": "markdown",
   "metadata": {},
   "source": [
    "## question 8"
   ]
  },
  {
   "cell_type": "code",
   "execution_count": 59,
   "metadata": {
    "ExecuteTime": {
     "end_time": "2020-11-03T18:21:31.543303Z",
     "start_time": "2020-11-03T18:21:31.538487Z"
    }
   },
   "outputs": [
    {
     "name": "stdout",
     "output_type": "stream",
     "text": [
      "1 \n",
      "2 2 \n",
      "3 3 3 \n",
      "4 4 4 4 \n",
      "5 5 5 5 5 \n"
     ]
    }
   ],
   "source": [
    "for i in range(1,6):\n",
    "    print(('{} '.format(i))*i)"
   ]
  },
  {
   "cell_type": "code",
   "execution_count": 62,
   "metadata": {
    "ExecuteTime": {
     "end_time": "2020-11-03T18:22:12.051897Z",
     "start_time": "2020-11-03T18:22:12.046490Z"
    },
    "scrolled": true
   },
   "outputs": [
    {
     "name": "stdout",
     "output_type": "stream",
     "text": [
      "\n",
      "\n",
      "1 \n",
      "\n",
      "2 2 \n",
      "\n",
      "3 3 3 \n",
      "\n",
      "4 4 4 4 \n",
      "\n",
      "5 5 5 5 5 \n",
      "\n"
     ]
    }
   ],
   "source": [
    "for num in range(6):\n",
    "    for i in range(num):\n",
    "        print (num, end=\" \") #print number\n",
    "    # new line after each row to display pattern correctly\n",
    "    print(\"\\n\")"
   ]
  },
  {
   "cell_type": "markdown",
   "metadata": {},
   "source": [
    "## question 9"
   ]
  },
  {
   "cell_type": "markdown",
   "metadata": {},
   "source": [
    "Reverse a given number and return true if it is the same as the original number"
   ]
  },
  {
   "cell_type": "code",
   "execution_count": 67,
   "metadata": {
    "ExecuteTime": {
     "end_time": "2020-11-03T18:25:04.972498Z",
     "start_time": "2020-11-03T18:25:04.968198Z"
    }
   },
   "outputs": [],
   "source": [
    "def reverse_number(n):\n",
    "    return n==int(str(n)[::-1])"
   ]
  },
  {
   "cell_type": "code",
   "execution_count": 70,
   "metadata": {
    "ExecuteTime": {
     "end_time": "2020-11-03T18:25:22.512833Z",
     "start_time": "2020-11-03T18:25:22.506475Z"
    }
   },
   "outputs": [
    {
     "data": {
      "text/plain": [
       "True"
      ]
     },
     "execution_count": 70,
     "metadata": {},
     "output_type": "execute_result"
    }
   ],
   "source": [
    "reverse_number(121)"
   ]
  },
  {
   "cell_type": "markdown",
   "metadata": {},
   "source": [
    "## question 10"
   ]
  },
  {
   "cell_type": "markdown",
   "metadata": {},
   "source": [
    "Given two list of numbers create a new list such that new list should contain only odd numbers from the first list and even numbers from the second list"
   ]
  },
  {
   "cell_type": "code",
   "execution_count": 74,
   "metadata": {
    "ExecuteTime": {
     "end_time": "2020-11-03T18:30:28.668087Z",
     "start_time": "2020-11-03T18:30:28.662623Z"
    }
   },
   "outputs": [],
   "source": [
    "def two_list(l1,l2):\n",
    "    l=[]\n",
    "    for el in l1:\n",
    "        if el%2==1:\n",
    "            l+=[el]\n",
    "    for el in l2:\n",
    "        if el%2==0:\n",
    "            l+=[el]\n",
    "    return l\n",
    "    "
   ]
  },
  {
   "cell_type": "code",
   "execution_count": 77,
   "metadata": {
    "ExecuteTime": {
     "end_time": "2020-11-03T18:32:02.776783Z",
     "start_time": "2020-11-03T18:32:02.772131Z"
    }
   },
   "outputs": [],
   "source": [
    "def two_list_shorter(l1,l2):\n",
    "\n",
    "    return [el for el in l1 if el%2==1]+[el for el in l2 if el%2==0]"
   ]
  },
  {
   "cell_type": "code",
   "execution_count": 75,
   "metadata": {
    "ExecuteTime": {
     "end_time": "2020-11-03T18:30:29.043237Z",
     "start_time": "2020-11-03T18:30:29.037019Z"
    }
   },
   "outputs": [
    {
     "data": {
      "text/plain": [
       "[23, 11, 17, 24, 36, 12]"
      ]
     },
     "execution_count": 75,
     "metadata": {},
     "output_type": "execute_result"
    }
   ],
   "source": [
    "two_list([10,20,23,11,17],[13,43,24,36,12])"
   ]
  },
  {
   "cell_type": "code",
   "execution_count": 78,
   "metadata": {
    "ExecuteTime": {
     "end_time": "2020-11-03T18:32:15.024641Z",
     "start_time": "2020-11-03T18:32:15.018722Z"
    }
   },
   "outputs": [
    {
     "data": {
      "text/plain": [
       "[23, 11, 17, 24, 36, 12]"
      ]
     },
     "execution_count": 78,
     "metadata": {},
     "output_type": "execute_result"
    }
   ],
   "source": [
    "two_list_shorter([10,20,23,11,17],[13,43,24,36,12])"
   ]
  },
  {
   "cell_type": "markdown",
   "metadata": {
    "ExecuteTime": {
     "end_time": "2020-11-03T18:33:07.253514Z",
     "start_time": "2020-11-03T18:33:07.250504Z"
    }
   },
   "source": [
    "## question 11"
   ]
  },
  {
   "cell_type": "markdown",
   "metadata": {},
   "source": [
    "Write a code to extract each digit from an integer, in the reverse order"
   ]
  },
  {
   "cell_type": "code",
   "execution_count": 81,
   "metadata": {
    "ExecuteTime": {
     "end_time": "2020-11-03T18:34:00.607243Z",
     "start_time": "2020-11-03T18:34:00.602740Z"
    }
   },
   "outputs": [
    {
     "data": {
      "text/plain": [
       "'6 3 5 7'"
      ]
     },
     "execution_count": 81,
     "metadata": {},
     "output_type": "execute_result"
    }
   ],
   "source": [
    "n=7536\n",
    "' '.join(str(n)[::-1])"
   ]
  },
  {
   "cell_type": "code",
   "execution_count": 82,
   "metadata": {
    "ExecuteTime": {
     "end_time": "2020-11-03T18:34:43.486970Z",
     "start_time": "2020-11-03T18:34:43.481704Z"
    }
   },
   "outputs": [
    {
     "name": "stdout",
     "output_type": "stream",
     "text": [
      "Given number 7536\n",
      "6 3 5 7 "
     ]
    }
   ],
   "source": [
    "number = 7536\n",
    "print(\"Given number\", number)\n",
    "while (number > 0):\n",
    "    # get the last digit\n",
    "    digit = number % 10\n",
    "    \n",
    "    # remove the last digit and repeat the loop\n",
    "    number = number // 10\n",
    "    print(digit, end=\" \")"
   ]
  },
  {
   "cell_type": "code",
   "execution_count": 89,
   "metadata": {
    "ExecuteTime": {
     "end_time": "2020-11-03T18:40:26.172770Z",
     "start_time": "2020-11-03T18:40:26.167836Z"
    }
   },
   "outputs": [],
   "source": [
    "def income(n):\n",
    "    if n<10000:\n",
    "        return 0\n",
    "    elif n<=20000:\n",
    "        return (n-10000)*.1\n",
    "    else:\n",
    "        return (10000)*.1+(n-20000)*.2"
   ]
  },
  {
   "cell_type": "code",
   "execution_count": 90,
   "metadata": {
    "ExecuteTime": {
     "end_time": "2020-11-03T18:40:26.560802Z",
     "start_time": "2020-11-03T18:40:26.556550Z"
    }
   },
   "outputs": [
    {
     "data": {
      "text/plain": [
       "6000.0"
      ]
     },
     "execution_count": 90,
     "metadata": {},
     "output_type": "execute_result"
    }
   ],
   "source": [
    "income(45000)"
   ]
  },
  {
   "cell_type": "markdown",
   "metadata": {},
   "source": [
    "## question 13"
   ]
  },
  {
   "cell_type": "markdown",
   "metadata": {},
   "source": [
    "Print multiplication table form 1 to 10"
   ]
  },
  {
   "cell_type": "code",
   "execution_count": 103,
   "metadata": {
    "ExecuteTime": {
     "end_time": "2020-11-03T18:44:57.727960Z",
     "start_time": "2020-11-03T18:44:57.718505Z"
    }
   },
   "outputs": [
    {
     "name": "stdout",
     "output_type": "stream",
     "text": [
      "1 2 3 4 5 6 7 8 9 10 \n",
      "\n",
      "2 4 6 8 10 12 14 16 18 20 \n",
      "\n",
      "3 6 9 12 15 18 21 24 27 30 \n",
      "\n",
      "4 8 12 16 20 24 28 32 36 40 \n",
      "\n",
      "5 10 15 20 25 30 35 40 45 50 \n",
      "\n",
      "6 12 18 24 30 36 42 48 54 60 \n",
      "\n",
      "7 14 21 28 35 42 49 56 63 70 \n",
      "\n",
      "8 16 24 32 40 48 56 64 72 80 \n",
      "\n",
      "9 18 27 36 45 54 63 72 81 90 \n",
      "\n",
      "10 20 30 40 50 60 70 80 90 100 \n",
      "\n"
     ]
    }
   ],
   "source": [
    "for i in range(1,11):\n",
    "    \n",
    "    for j in range(1,11):\n",
    "        print('{}'.format(j*i),end=' ')\n",
    "    print('\\n')   "
   ]
  },
  {
   "cell_type": "code",
   "execution_count": 104,
   "metadata": {
    "ExecuteTime": {
     "end_time": "2020-11-03T18:45:16.243827Z",
     "start_time": "2020-11-03T18:45:16.235711Z"
    }
   },
   "outputs": [
    {
     "name": "stdout",
     "output_type": "stream",
     "text": [
      "1 2 3 4 5 6 7 8 9 10 \t\t\n",
      "2 4 6 8 10 12 14 16 18 20 \t\t\n",
      "3 6 9 12 15 18 21 24 27 30 \t\t\n",
      "4 8 12 16 20 24 28 32 36 40 \t\t\n",
      "5 10 15 20 25 30 35 40 45 50 \t\t\n",
      "6 12 18 24 30 36 42 48 54 60 \t\t\n",
      "7 14 21 28 35 42 49 56 63 70 \t\t\n",
      "8 16 24 32 40 48 56 64 72 80 \t\t\n",
      "9 18 27 36 45 54 63 72 81 90 \t\t\n",
      "10 20 30 40 50 60 70 80 90 100 \t\t\n"
     ]
    }
   ],
   "source": [
    "for i in range(1, 11):\n",
    "    for j in range(1, 11):\n",
    "        print(i * j, end=\" \")\n",
    "    print(\"\\t\\t\")"
   ]
  },
  {
   "cell_type": "markdown",
   "metadata": {},
   "source": [
    "## question 14"
   ]
  },
  {
   "cell_type": "code",
   "execution_count": 106,
   "metadata": {
    "ExecuteTime": {
     "end_time": "2020-11-03T18:47:27.820081Z",
     "start_time": "2020-11-03T18:47:27.814549Z"
    }
   },
   "outputs": [
    {
     "name": "stdout",
     "output_type": "stream",
     "text": [
      "* * * * * \n",
      "\n",
      "* * * * \n",
      "\n",
      "* * * \n",
      "\n",
      "* * \n",
      "\n",
      "* \n",
      "\n"
     ]
    }
   ],
   "source": [
    "for i in range(5,0,-1):\n",
    "    for j in range(i):\n",
    "        print('*',end=' ')\n",
    "    print('\\n')"
   ]
  },
  {
   "cell_type": "markdown",
   "metadata": {},
   "source": [
    "## question 15"
   ]
  },
  {
   "cell_type": "markdown",
   "metadata": {},
   "source": [
    "Write a function called exponent(base, exp) that returns an int value of base raises to the power of exp.\n"
   ]
  },
  {
   "cell_type": "code",
   "execution_count": 107,
   "metadata": {
    "ExecuteTime": {
     "end_time": "2020-11-03T18:48:43.921004Z",
     "start_time": "2020-11-03T18:48:43.917422Z"
    }
   },
   "outputs": [],
   "source": [
    "def exponent(base,exp):\n",
    "    return base**exp"
   ]
  },
  {
   "cell_type": "markdown",
   "metadata": {},
   "source": [
    "# loop exercices"
   ]
  },
  {
   "cell_type": "markdown",
   "metadata": {
    "ExecuteTime": {
     "end_time": "2020-11-03T18:52:09.643669Z",
     "start_time": "2020-11-03T18:52:09.640933Z"
    }
   },
   "source": [
    "## question 1"
   ]
  },
  {
   "cell_type": "markdown",
   "metadata": {},
   "source": [
    "Print First 10 natural numbers using while loop"
   ]
  },
  {
   "cell_type": "code",
   "execution_count": 111,
   "metadata": {
    "ExecuteTime": {
     "end_time": "2020-11-03T18:51:29.210203Z",
     "start_time": "2020-11-03T18:51:29.205378Z"
    },
    "scrolled": true
   },
   "outputs": [
    {
     "name": "stdout",
     "output_type": "stream",
     "text": [
      "0\n",
      "1\n",
      "2\n",
      "3\n",
      "4\n",
      "5\n",
      "6\n",
      "7\n",
      "8\n",
      "9\n",
      "10\n"
     ]
    }
   ],
   "source": [
    "i=0\n",
    "while(i<=10):\n",
    "    print(i)\n",
    "    i+=1"
   ]
  },
  {
   "cell_type": "markdown",
   "metadata": {},
   "source": [
    "## question 3"
   ]
  },
  {
   "cell_type": "markdown",
   "metadata": {},
   "source": [
    "Accept number from user and calculate the sum of all number between 1 and given number"
   ]
  },
  {
   "cell_type": "code",
   "execution_count": 114,
   "metadata": {
    "ExecuteTime": {
     "end_time": "2020-11-03T18:53:29.360137Z",
     "start_time": "2020-11-03T18:53:29.355801Z"
    }
   },
   "outputs": [],
   "source": [
    "def sum_number(n):\n",
    "    result=0\n",
    "    for i in range(1,n+1,1):\n",
    "        result+=i\n",
    "    return result"
   ]
  },
  {
   "cell_type": "markdown",
   "metadata": {},
   "source": [
    "## question 6 "
   ]
  },
  {
   "cell_type": "markdown",
   "metadata": {},
   "source": [
    "Given a number count the total number of digits in a number"
   ]
  },
  {
   "cell_type": "code",
   "execution_count": 115,
   "metadata": {
    "ExecuteTime": {
     "end_time": "2020-11-03T18:55:16.611462Z",
     "start_time": "2020-11-03T18:55:16.608042Z"
    }
   },
   "outputs": [],
   "source": [
    "def digits_number(n):\n",
    "    return len(str(n))"
   ]
  },
  {
   "cell_type": "code",
   "execution_count": 116,
   "metadata": {
    "ExecuteTime": {
     "end_time": "2020-11-03T18:55:28.044362Z",
     "start_time": "2020-11-03T18:55:28.039316Z"
    }
   },
   "outputs": [
    {
     "data": {
      "text/plain": [
       "5"
      ]
     },
     "execution_count": 116,
     "metadata": {},
     "output_type": "execute_result"
    }
   ],
   "source": [
    "digits_number(12345)"
   ]
  },
  {
   "cell_type": "code",
   "execution_count": 118,
   "metadata": {
    "ExecuteTime": {
     "end_time": "2020-11-03T18:56:03.858064Z",
     "start_time": "2020-11-03T18:56:03.853153Z"
    }
   },
   "outputs": [
    {
     "name": "stdout",
     "output_type": "stream",
     "text": [
      "Total digits are:  5\n"
     ]
    }
   ],
   "source": [
    "num = 75869\n",
    "count = 0\n",
    "while num != 0:\n",
    "    num //= 10\n",
    "    count+= 1\n",
    "print(\"Total digits are: \", count)"
   ]
  },
  {
   "cell_type": "markdown",
   "metadata": {},
   "source": [
    "## question 11"
   ]
  },
  {
   "cell_type": "markdown",
   "metadata": {},
   "source": [
    " display all the prime numbers within a range"
   ]
  },
  {
   "cell_type": "code",
   "execution_count": 119,
   "metadata": {
    "ExecuteTime": {
     "end_time": "2020-11-03T19:02:55.674220Z",
     "start_time": "2020-11-03T19:02:55.668545Z"
    }
   },
   "outputs": [],
   "source": [
    "def prime_number(start,end):\n",
    "\n",
    "    for num in range(start, end + 1):\n",
    "        # all prime numbers are greater than 1\n",
    "        # if number is less than or equal to 1, it is not prime\n",
    "        if num > 1:\n",
    "            for i in range(2, num):\n",
    "                # check for factors\n",
    "                if (num % i) == 0:\n",
    "                    # not a prime number so break inner loop and\n",
    "                    # look for next number\n",
    "                    break\n",
    "            else:\n",
    "                print(num)\n",
    "                "
   ]
  },
  {
   "cell_type": "code",
   "execution_count": 120,
   "metadata": {
    "ExecuteTime": {
     "end_time": "2020-11-03T19:03:08.729603Z",
     "start_time": "2020-11-03T19:03:08.725485Z"
    },
    "scrolled": false
   },
   "outputs": [
    {
     "name": "stdout",
     "output_type": "stream",
     "text": [
      "29\n",
      "31\n",
      "37\n",
      "41\n",
      "43\n",
      "47\n"
     ]
    }
   ],
   "source": [
    "prime_number(25,50)"
   ]
  },
  {
   "cell_type": "markdown",
   "metadata": {},
   "source": [
    "## question 12"
   ]
  },
  {
   "cell_type": "markdown",
   "metadata": {},
   "source": [
    " Display Fibonacci series up to 10 terms"
   ]
  },
  {
   "cell_type": "code",
   "execution_count": 121,
   "metadata": {
    "ExecuteTime": {
     "end_time": "2020-11-03T19:10:28.461058Z",
     "start_time": "2020-11-03T19:10:28.456913Z"
    }
   },
   "outputs": [
    {
     "name": "stdout",
     "output_type": "stream",
     "text": [
      "Fibonacci sequence:\n",
      "0  1  1  2  3  5  8  13  21  34  "
     ]
    }
   ],
   "source": [
    "terms = 10\n",
    "# first two terms\n",
    "num1, num2 = 0, 1\n",
    "count = 0\n",
    "\n",
    "print(\"Fibonacci sequence:\")\n",
    "while count < terms:\n",
    "    print(num1, end=\"  \")\n",
    "    temp = num1 + num2\n",
    "    # update values\n",
    "    num1 = num2\n",
    "    num2 = temp\n",
    "    count += 1"
   ]
  },
  {
   "cell_type": "markdown",
   "metadata": {
    "ExecuteTime": {
     "end_time": "2020-11-03T19:11:24.275779Z",
     "start_time": "2020-11-03T19:11:24.272987Z"
    }
   },
   "source": [
    "# functions "
   ]
  },
  {
   "cell_type": "markdown",
   "metadata": {},
   "source": [
    "## question 2 "
   ]
  },
  {
   "cell_type": "markdown",
   "metadata": {},
   "source": [
    "Write a function func1() such that it can accept a variable length of  argument and print all arguments value"
   ]
  },
  {
   "cell_type": "code",
   "execution_count": 123,
   "metadata": {
    "ExecuteTime": {
     "end_time": "2020-11-03T19:12:37.985284Z",
     "start_time": "2020-11-03T19:12:37.980068Z"
    }
   },
   "outputs": [
    {
     "name": "stdout",
     "output_type": "stream",
     "text": [
      "20\n",
      "40\n",
      "60\n",
      "80\n",
      "100\n"
     ]
    }
   ],
   "source": [
    "def func1(*args):\n",
    "    for i in args:\n",
    "        print(i)\n",
    "\n",
    "func1(20, 40, 60)\n",
    "func1(80, 100)\n"
   ]
  },
  {
   "cell_type": "markdown",
   "metadata": {},
   "source": [
    "## question 6"
   ]
  },
  {
   "cell_type": "markdown",
   "metadata": {},
   "source": [
    "Write a recursive function to calculate the sum of numbers from 0 to 10"
   ]
  },
  {
   "cell_type": "code",
   "execution_count": 124,
   "metadata": {
    "ExecuteTime": {
     "end_time": "2020-11-03T19:15:51.742026Z",
     "start_time": "2020-11-03T19:15:51.738114Z"
    }
   },
   "outputs": [],
   "source": [
    "def sum_recursive(n):\n",
    "    if n==0:\n",
    "        return 0\n",
    "    else:\n",
    "        return n+sum_recursive(n-1)"
   ]
  },
  {
   "cell_type": "markdown",
   "metadata": {},
   "source": [
    "# dictionaries"
   ]
  },
  {
   "cell_type": "markdown",
   "metadata": {},
   "source": [
    "## question 1"
   ]
  },
  {
   "cell_type": "code",
   "execution_count": 126,
   "metadata": {
    "ExecuteTime": {
     "end_time": "2020-11-03T19:25:45.802725Z",
     "start_time": "2020-11-03T19:25:45.796322Z"
    }
   },
   "outputs": [
    {
     "data": {
      "text/plain": [
       "{'Ten': 10, 'Twenty': 20, 'Thirty': 30}"
      ]
     },
     "execution_count": 126,
     "metadata": {},
     "output_type": "execute_result"
    }
   ],
   "source": [
    "keys = ['Ten', 'Twenty', 'Thirty']\n",
    "values = [10, 20, 30]\n",
    "\n",
    "dict(zip(keys,values))"
   ]
  },
  {
   "cell_type": "markdown",
   "metadata": {},
   "source": [
    "## question 2"
   ]
  },
  {
   "cell_type": "markdown",
   "metadata": {},
   "source": [
    "Merge following two Python dictionaries into one"
   ]
  },
  {
   "cell_type": "code",
   "execution_count": 127,
   "metadata": {
    "ExecuteTime": {
     "end_time": "2020-11-03T19:26:31.145028Z",
     "start_time": "2020-11-03T19:26:31.140938Z"
    }
   },
   "outputs": [],
   "source": [
    "dict1 = {'Ten': 10, 'Twenty': 20, 'Thirty': 30}\n",
    "dict2 = {'Thirty': 30, 'Fourty': 40, 'Fifty': 50}\n"
   ]
  },
  {
   "cell_type": "code",
   "execution_count": 128,
   "metadata": {
    "ExecuteTime": {
     "end_time": "2020-11-03T19:27:30.424365Z",
     "start_time": "2020-11-03T19:27:30.418845Z"
    }
   },
   "outputs": [
    {
     "data": {
      "text/plain": [
       "{'Ten': 10, 'Twenty': 20, 'Thirty': 30, 'Fourty': 40, 'Fifty': 50}"
      ]
     },
     "execution_count": 128,
     "metadata": {},
     "output_type": "execute_result"
    }
   ],
   "source": [
    "{**dict1, **dict2}"
   ]
  },
  {
   "cell_type": "markdown",
   "metadata": {},
   "source": [
    "## question 4"
   ]
  },
  {
   "cell_type": "code",
   "execution_count": 130,
   "metadata": {
    "ExecuteTime": {
     "end_time": "2020-11-03T19:29:11.756073Z",
     "start_time": "2020-11-03T19:29:11.752461Z"
    }
   },
   "outputs": [],
   "source": [
    "employees = ['Kelly', 'Emma', 'John']\n",
    "defaults = {\"designation\": 'Application Developer', \"salary\": 8000}"
   ]
  },
  {
   "cell_type": "code",
   "execution_count": 131,
   "metadata": {
    "ExecuteTime": {
     "end_time": "2020-11-03T19:29:12.063963Z",
     "start_time": "2020-11-03T19:29:12.059941Z"
    }
   },
   "outputs": [
    {
     "data": {
      "text/plain": [
       "{'Kelly': {'designation': 'Application Developer', 'salary': 8000},\n",
       " 'Emma': {'designation': 'Application Developer', 'salary': 8000},\n",
       " 'John': {'designation': 'Application Developer', 'salary': 8000}}"
      ]
     },
     "execution_count": 131,
     "metadata": {},
     "output_type": "execute_result"
    }
   ],
   "source": [
    "dict.fromkeys(employees, defaults)"
   ]
  },
  {
   "cell_type": "code",
   "execution_count": 132,
   "metadata": {
    "ExecuteTime": {
     "end_time": "2020-11-03T19:29:59.468175Z",
     "start_time": "2020-11-03T19:29:59.463983Z"
    }
   },
   "outputs": [
    {
     "name": "stdout",
     "output_type": "stream",
     "text": [
      "{'name': 'Kelly', 'salary': 8000}\n"
     ]
    }
   ],
   "source": [
    "sampleDict = { \n",
    "  \"name\": \"Kelly\",\n",
    "  \"age\":25, \n",
    "  \"salary\": 8000, \n",
    "  \"city\": \"New york\" }\n",
    "\n",
    "keys = [\"name\", \"salary\"]\n",
    "\n",
    "newDict = {k: sampleDict[k] for k in keys}\n",
    "print(newDict)"
   ]
  },
  {
   "cell_type": "code",
   "execution_count": 133,
   "metadata": {
    "ExecuteTime": {
     "end_time": "2020-11-03T19:30:59.205306Z",
     "start_time": "2020-11-03T19:30:59.201456Z"
    }
   },
   "outputs": [],
   "source": [
    "sampleDict = {'a': 100, 'b': 200, 'c': 300}"
   ]
  },
  {
   "cell_type": "code",
   "execution_count": 138,
   "metadata": {
    "ExecuteTime": {
     "end_time": "2020-11-03T19:31:41.828722Z",
     "start_time": "2020-11-03T19:31:41.823758Z"
    },
    "scrolled": false
   },
   "outputs": [
    {
     "data": {
      "text/plain": [
       "dict_values([100, 200, 300])"
      ]
     },
     "execution_count": 138,
     "metadata": {},
     "output_type": "execute_result"
    }
   ],
   "source": [
    "sampleDict.values()"
   ]
  },
  {
   "cell_type": "markdown",
   "metadata": {
    "ExecuteTime": {
     "end_time": "2020-11-03T19:32:57.133461Z",
     "start_time": "2020-11-03T19:32:57.130619Z"
    }
   },
   "source": [
    "## question 9"
   ]
  },
  {
   "cell_type": "markdown",
   "metadata": {},
   "source": [
    "Get the key corresponding to the minimum value from the following dictionary"
   ]
  },
  {
   "cell_type": "code",
   "execution_count": 140,
   "metadata": {
    "ExecuteTime": {
     "end_time": "2020-11-03T19:33:02.182823Z",
     "start_time": "2020-11-03T19:33:02.179530Z"
    }
   },
   "outputs": [],
   "source": [
    "sampleDict = {\n",
    "  'Physics': 82,\n",
    "  'Math': 65,\n",
    "  'history': 75\n",
    "}"
   ]
  },
  {
   "cell_type": "code",
   "execution_count": 141,
   "metadata": {
    "ExecuteTime": {
     "end_time": "2020-11-03T19:33:38.865164Z",
     "start_time": "2020-11-03T19:33:38.860327Z"
    }
   },
   "outputs": [
    {
     "data": {
      "text/plain": [
       "'Math'"
      ]
     },
     "execution_count": 141,
     "metadata": {},
     "output_type": "execute_result"
    }
   ],
   "source": [
    "min(sampleDict, key=sampleDict.get)"
   ]
  },
  {
   "cell_type": "code",
   "execution_count": null,
   "metadata": {},
   "outputs": [],
   "source": []
  },
  {
   "cell_type": "code",
   "execution_count": null,
   "metadata": {},
   "outputs": [],
   "source": []
  }
 ],
 "metadata": {
  "kernelspec": {
   "display_name": "Python 3",
   "language": "python",
   "name": "python3"
  },
  "language_info": {
   "codemirror_mode": {
    "name": "ipython",
    "version": 3
   },
   "file_extension": ".py",
   "mimetype": "text/x-python",
   "name": "python",
   "nbconvert_exporter": "python",
   "pygments_lexer": "ipython3",
   "version": "3.7.6"
  },
  "toc": {
   "base_numbering": 1,
   "nav_menu": {},
   "number_sections": true,
   "sideBar": false,
   "skip_h1_title": false,
   "title_cell": "Table of Contents",
   "title_sidebar": "Contents",
   "toc_cell": true,
   "toc_position": {
    "height": "47.3229px",
    "left": "1059px",
    "top": "131px",
    "width": "159.365px"
   },
   "toc_section_display": false,
   "toc_window_display": true
  }
 },
 "nbformat": 4,
 "nbformat_minor": 4
}
